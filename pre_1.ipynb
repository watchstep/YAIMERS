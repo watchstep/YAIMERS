{
 "cells": [
  {
   "cell_type": "code",
   "execution_count": 1,
   "metadata": {},
   "outputs": [],
   "source": [
    "import os\n",
    "import random\n",
    "from tqdm.notebook import tqdm\n",
    "\n",
    "import numpy as np\n",
    "import pandas as pd\n",
    "\n",
    "from sklearn.preprocessing import LabelEncoder\n",
    "from sklearn.preprocessing import StandardScaler, MinMaxScaler\n",
    "from sklearn.model_selection import cross_val_score\n",
    "from sklearn.model_selection import train_test_split\n",
    "\n",
    "import seaborn as sns\n",
    "import matplotlib.pyplot as plt\n",
    "\n",
    "ROOT_DIR = \"./data\"\n",
    "RANDOM_SEED = 110\n",
    "\n",
    "np.random.seed(RANDOM_SEED)\n",
    "%matplotlib inline"
   ]
  },
  {
   "cell_type": "code",
   "execution_count": 2,
   "metadata": {},
   "outputs": [
    {
     "data": {
      "text/html": [
       "<div>\n",
       "<style scoped>\n",
       "    .dataframe tbody tr th:only-of-type {\n",
       "        vertical-align: middle;\n",
       "    }\n",
       "\n",
       "    .dataframe tbody tr th {\n",
       "        vertical-align: top;\n",
       "    }\n",
       "\n",
       "    .dataframe thead th {\n",
       "        text-align: right;\n",
       "    }\n",
       "</style>\n",
       "<table border=\"1\" class=\"dataframe\">\n",
       "  <thead>\n",
       "    <tr style=\"text-align: right;\">\n",
       "      <th></th>\n",
       "      <th>Wip Line_Dam</th>\n",
       "      <th>Process Desc._Dam</th>\n",
       "      <th>Equipment_Dam</th>\n",
       "      <th>Model.Suffix_Dam</th>\n",
       "      <th>Workorder_Dam</th>\n",
       "      <th>Insp. Seq No._Dam</th>\n",
       "      <th>Insp Judge Code_Dam</th>\n",
       "      <th>CURE END POSITION X Collect Result_Dam</th>\n",
       "      <th>CURE END POSITION X Unit Time_Dam</th>\n",
       "      <th>CURE END POSITION X Judge Value_Dam</th>\n",
       "      <th>...</th>\n",
       "      <th>Production Qty Collect Result_Fill2</th>\n",
       "      <th>Production Qty Unit Time_Fill2</th>\n",
       "      <th>Production Qty Judge Value_Fill2</th>\n",
       "      <th>Receip No Collect Result_Fill2</th>\n",
       "      <th>Receip No Unit Time_Fill2</th>\n",
       "      <th>Receip No Judge Value_Fill2</th>\n",
       "      <th>WorkMode Collect Result_Fill2</th>\n",
       "      <th>WorkMode Unit Time_Fill2</th>\n",
       "      <th>WorkMode Judge Value_Fill2</th>\n",
       "      <th>target</th>\n",
       "    </tr>\n",
       "  </thead>\n",
       "  <tbody>\n",
       "    <tr>\n",
       "      <th>0</th>\n",
       "      <td>IVI-OB6</td>\n",
       "      <td>Dam Dispenser</td>\n",
       "      <td>Dam dispenser #1</td>\n",
       "      <td>AJX75334505</td>\n",
       "      <td>4F1XA938-1</td>\n",
       "      <td>1</td>\n",
       "      <td>OK</td>\n",
       "      <td>240.0</td>\n",
       "      <td>NaN</td>\n",
       "      <td>NaN</td>\n",
       "      <td>...</td>\n",
       "      <td>7</td>\n",
       "      <td>NaN</td>\n",
       "      <td>NaN</td>\n",
       "      <td>127</td>\n",
       "      <td>NaN</td>\n",
       "      <td>NaN</td>\n",
       "      <td>1</td>\n",
       "      <td>NaN</td>\n",
       "      <td>NaN</td>\n",
       "      <td>Normal</td>\n",
       "    </tr>\n",
       "    <tr>\n",
       "      <th>1</th>\n",
       "      <td>IVI-OB6</td>\n",
       "      <td>Dam Dispenser</td>\n",
       "      <td>Dam dispenser #1</td>\n",
       "      <td>AJX75334505</td>\n",
       "      <td>3KPM0016-2</td>\n",
       "      <td>1</td>\n",
       "      <td>OK</td>\n",
       "      <td>240.0</td>\n",
       "      <td>NaN</td>\n",
       "      <td>NaN</td>\n",
       "      <td>...</td>\n",
       "      <td>185</td>\n",
       "      <td>NaN</td>\n",
       "      <td>NaN</td>\n",
       "      <td>1</td>\n",
       "      <td>NaN</td>\n",
       "      <td>NaN</td>\n",
       "      <td>0</td>\n",
       "      <td>NaN</td>\n",
       "      <td>NaN</td>\n",
       "      <td>Normal</td>\n",
       "    </tr>\n",
       "    <tr>\n",
       "      <th>2</th>\n",
       "      <td>IVI-OB6</td>\n",
       "      <td>Dam Dispenser</td>\n",
       "      <td>Dam dispenser #2</td>\n",
       "      <td>AJX75334501</td>\n",
       "      <td>4E1X9167-1</td>\n",
       "      <td>1</td>\n",
       "      <td>OK</td>\n",
       "      <td>1000.0</td>\n",
       "      <td>NaN</td>\n",
       "      <td>NaN</td>\n",
       "      <td>...</td>\n",
       "      <td>10</td>\n",
       "      <td>NaN</td>\n",
       "      <td>NaN</td>\n",
       "      <td>73</td>\n",
       "      <td>NaN</td>\n",
       "      <td>NaN</td>\n",
       "      <td>1</td>\n",
       "      <td>NaN</td>\n",
       "      <td>NaN</td>\n",
       "      <td>Normal</td>\n",
       "    </tr>\n",
       "    <tr>\n",
       "      <th>3</th>\n",
       "      <td>IVI-OB6</td>\n",
       "      <td>Dam Dispenser</td>\n",
       "      <td>Dam dispenser #2</td>\n",
       "      <td>AJX75334501</td>\n",
       "      <td>3K1X0057-1</td>\n",
       "      <td>1</td>\n",
       "      <td>OK</td>\n",
       "      <td>1000.0</td>\n",
       "      <td>NaN</td>\n",
       "      <td>NaN</td>\n",
       "      <td>...</td>\n",
       "      <td>268</td>\n",
       "      <td>NaN</td>\n",
       "      <td>NaN</td>\n",
       "      <td>1</td>\n",
       "      <td>NaN</td>\n",
       "      <td>NaN</td>\n",
       "      <td>0</td>\n",
       "      <td>NaN</td>\n",
       "      <td>NaN</td>\n",
       "      <td>Normal</td>\n",
       "    </tr>\n",
       "    <tr>\n",
       "      <th>4</th>\n",
       "      <td>IVI-OB6</td>\n",
       "      <td>Dam Dispenser</td>\n",
       "      <td>Dam dispenser #1</td>\n",
       "      <td>AJX75334501</td>\n",
       "      <td>3HPM0007-1</td>\n",
       "      <td>1</td>\n",
       "      <td>OK</td>\n",
       "      <td>240.0</td>\n",
       "      <td>NaN</td>\n",
       "      <td>NaN</td>\n",
       "      <td>...</td>\n",
       "      <td>121</td>\n",
       "      <td>NaN</td>\n",
       "      <td>NaN</td>\n",
       "      <td>1</td>\n",
       "      <td>NaN</td>\n",
       "      <td>NaN</td>\n",
       "      <td>0</td>\n",
       "      <td>NaN</td>\n",
       "      <td>NaN</td>\n",
       "      <td>Normal</td>\n",
       "    </tr>\n",
       "  </tbody>\n",
       "</table>\n",
       "<p>5 rows × 464 columns</p>\n",
       "</div>"
      ],
      "text/plain": [
       "  Wip Line_Dam Process Desc._Dam     Equipment_Dam Model.Suffix_Dam  \\\n",
       "0      IVI-OB6     Dam Dispenser  Dam dispenser #1      AJX75334505   \n",
       "1      IVI-OB6     Dam Dispenser  Dam dispenser #1      AJX75334505   \n",
       "2      IVI-OB6     Dam Dispenser  Dam dispenser #2      AJX75334501   \n",
       "3      IVI-OB6     Dam Dispenser  Dam dispenser #2      AJX75334501   \n",
       "4      IVI-OB6     Dam Dispenser  Dam dispenser #1      AJX75334501   \n",
       "\n",
       "  Workorder_Dam  Insp. Seq No._Dam Insp Judge Code_Dam  \\\n",
       "0    4F1XA938-1                  1                  OK   \n",
       "1    3KPM0016-2                  1                  OK   \n",
       "2    4E1X9167-1                  1                  OK   \n",
       "3    3K1X0057-1                  1                  OK   \n",
       "4    3HPM0007-1                  1                  OK   \n",
       "\n",
       "   CURE END POSITION X Collect Result_Dam  CURE END POSITION X Unit Time_Dam  \\\n",
       "0                                   240.0                                NaN   \n",
       "1                                   240.0                                NaN   \n",
       "2                                  1000.0                                NaN   \n",
       "3                                  1000.0                                NaN   \n",
       "4                                   240.0                                NaN   \n",
       "\n",
       "   CURE END POSITION X Judge Value_Dam  ...  \\\n",
       "0                                  NaN  ...   \n",
       "1                                  NaN  ...   \n",
       "2                                  NaN  ...   \n",
       "3                                  NaN  ...   \n",
       "4                                  NaN  ...   \n",
       "\n",
       "   Production Qty Collect Result_Fill2  Production Qty Unit Time_Fill2  \\\n",
       "0                                    7                             NaN   \n",
       "1                                  185                             NaN   \n",
       "2                                   10                             NaN   \n",
       "3                                  268                             NaN   \n",
       "4                                  121                             NaN   \n",
       "\n",
       "   Production Qty Judge Value_Fill2  Receip No Collect Result_Fill2  \\\n",
       "0                               NaN                             127   \n",
       "1                               NaN                               1   \n",
       "2                               NaN                              73   \n",
       "3                               NaN                               1   \n",
       "4                               NaN                               1   \n",
       "\n",
       "   Receip No Unit Time_Fill2  Receip No Judge Value_Fill2  \\\n",
       "0                        NaN                          NaN   \n",
       "1                        NaN                          NaN   \n",
       "2                        NaN                          NaN   \n",
       "3                        NaN                          NaN   \n",
       "4                        NaN                          NaN   \n",
       "\n",
       "   WorkMode Collect Result_Fill2  WorkMode Unit Time_Fill2  \\\n",
       "0                              1                       NaN   \n",
       "1                              0                       NaN   \n",
       "2                              1                       NaN   \n",
       "3                              0                       NaN   \n",
       "4                              0                       NaN   \n",
       "\n",
       "   WorkMode Judge Value_Fill2  target  \n",
       "0                         NaN  Normal  \n",
       "1                         NaN  Normal  \n",
       "2                         NaN  Normal  \n",
       "3                         NaN  Normal  \n",
       "4                         NaN  Normal  \n",
       "\n",
       "[5 rows x 464 columns]"
      ]
     },
     "execution_count": 2,
     "metadata": {},
     "output_type": "execute_result"
    }
   ],
   "source": [
    "# read csv\n",
    "df = pd.read_csv(os.path.join(ROOT_DIR, \"train.csv\"))\n",
    "df.head()"
   ]
  },
  {
   "cell_type": "markdown",
   "metadata": {},
   "source": [
    "### NaN"
   ]
  },
  {
   "cell_type": "code",
   "execution_count": 3,
   "metadata": {},
   "outputs": [],
   "source": [
    "nan_columns = df.columns[df.isnull().any()]\n",
    "# 대부분 전부 NaN이거나 최소 약 만 천 개 이상 NaN이라서 전부 삭제\n",
    "df.drop(nan_columns, axis=1, inplace=True) # 464 entries -> 178 entries"
   ]
  },
  {
   "cell_type": "code",
   "execution_count": 6,
   "metadata": {},
   "outputs": [
    {
     "name": "stdout",
     "output_type": "stream",
     "text": [
      "<class 'pandas.core.frame.DataFrame'>\n",
      "RangeIndex: 40506 entries, 0 to 40505\n",
      "Columns: 178 entries, Wip Line_Dam to target\n",
      "dtypes: float64(72), int64(78), object(28)\n",
      "memory usage: 55.0+ MB\n"
     ]
    }
   ],
   "source": [
    "df.info()"
   ]
  },
  {
   "cell_type": "code",
   "execution_count": 7,
   "metadata": {},
   "outputs": [
    {
     "data": {
      "text/html": [
       "<div>\n",
       "<style scoped>\n",
       "    .dataframe tbody tr th:only-of-type {\n",
       "        vertical-align: middle;\n",
       "    }\n",
       "\n",
       "    .dataframe tbody tr th {\n",
       "        vertical-align: top;\n",
       "    }\n",
       "\n",
       "    .dataframe thead th {\n",
       "        text-align: right;\n",
       "    }\n",
       "</style>\n",
       "<table border=\"1\" class=\"dataframe\">\n",
       "  <thead>\n",
       "    <tr style=\"text-align: right;\">\n",
       "      <th></th>\n",
       "      <th>Wip Line_Dam</th>\n",
       "      <th>Process Desc._Dam</th>\n",
       "      <th>Equipment_Dam</th>\n",
       "      <th>Model.Suffix_Dam</th>\n",
       "      <th>Workorder_Dam</th>\n",
       "      <th>Insp. Seq No._Dam</th>\n",
       "      <th>Insp Judge Code_Dam</th>\n",
       "      <th>CURE END POSITION X Collect Result_Dam</th>\n",
       "      <th>CURE END POSITION Z Collect Result_Dam</th>\n",
       "      <th>CURE END POSITION Θ Collect Result_Dam</th>\n",
       "      <th>...</th>\n",
       "      <th>Head Clean Position Z Collect Result_Fill2</th>\n",
       "      <th>Head Purge Position X Collect Result_Fill2</th>\n",
       "      <th>Head Purge Position Y Collect Result_Fill2</th>\n",
       "      <th>Head Purge Position Z Collect Result_Fill2</th>\n",
       "      <th>Machine Tact time Collect Result_Fill2</th>\n",
       "      <th>PalletID Collect Result_Fill2</th>\n",
       "      <th>Production Qty Collect Result_Fill2</th>\n",
       "      <th>Receip No Collect Result_Fill2</th>\n",
       "      <th>WorkMode Collect Result_Fill2</th>\n",
       "      <th>target</th>\n",
       "    </tr>\n",
       "  </thead>\n",
       "  <tbody>\n",
       "    <tr>\n",
       "      <th>0</th>\n",
       "      <td>IVI-OB6</td>\n",
       "      <td>Dam Dispenser</td>\n",
       "      <td>Dam dispenser #1</td>\n",
       "      <td>AJX75334505</td>\n",
       "      <td>4F1XA938-1</td>\n",
       "      <td>1</td>\n",
       "      <td>OK</td>\n",
       "      <td>240.0</td>\n",
       "      <td>2.5</td>\n",
       "      <td>-90</td>\n",
       "      <td>...</td>\n",
       "      <td>50.0</td>\n",
       "      <td>91.8</td>\n",
       "      <td>270</td>\n",
       "      <td>50</td>\n",
       "      <td>114.612</td>\n",
       "      <td>19.9</td>\n",
       "      <td>7</td>\n",
       "      <td>127</td>\n",
       "      <td>1</td>\n",
       "      <td>0</td>\n",
       "    </tr>\n",
       "    <tr>\n",
       "      <th>1</th>\n",
       "      <td>IVI-OB6</td>\n",
       "      <td>Dam Dispenser</td>\n",
       "      <td>Dam dispenser #1</td>\n",
       "      <td>AJX75334505</td>\n",
       "      <td>3KPM0016-2</td>\n",
       "      <td>1</td>\n",
       "      <td>OK</td>\n",
       "      <td>240.0</td>\n",
       "      <td>2.5</td>\n",
       "      <td>-90</td>\n",
       "      <td>...</td>\n",
       "      <td>91.8</td>\n",
       "      <td>270.0</td>\n",
       "      <td>50</td>\n",
       "      <td>85</td>\n",
       "      <td>19.600</td>\n",
       "      <td>7.0</td>\n",
       "      <td>185</td>\n",
       "      <td>1</td>\n",
       "      <td>0</td>\n",
       "      <td>0</td>\n",
       "    </tr>\n",
       "    <tr>\n",
       "      <th>2</th>\n",
       "      <td>IVI-OB6</td>\n",
       "      <td>Dam Dispenser</td>\n",
       "      <td>Dam dispenser #2</td>\n",
       "      <td>AJX75334501</td>\n",
       "      <td>4E1X9167-1</td>\n",
       "      <td>1</td>\n",
       "      <td>OK</td>\n",
       "      <td>1000.0</td>\n",
       "      <td>12.5</td>\n",
       "      <td>90</td>\n",
       "      <td>...</td>\n",
       "      <td>50.0</td>\n",
       "      <td>91.8</td>\n",
       "      <td>270</td>\n",
       "      <td>50</td>\n",
       "      <td>114.612</td>\n",
       "      <td>19.8</td>\n",
       "      <td>10</td>\n",
       "      <td>73</td>\n",
       "      <td>1</td>\n",
       "      <td>0</td>\n",
       "    </tr>\n",
       "    <tr>\n",
       "      <th>3</th>\n",
       "      <td>IVI-OB6</td>\n",
       "      <td>Dam Dispenser</td>\n",
       "      <td>Dam dispenser #2</td>\n",
       "      <td>AJX75334501</td>\n",
       "      <td>3K1X0057-1</td>\n",
       "      <td>1</td>\n",
       "      <td>OK</td>\n",
       "      <td>1000.0</td>\n",
       "      <td>12.5</td>\n",
       "      <td>90</td>\n",
       "      <td>...</td>\n",
       "      <td>91.8</td>\n",
       "      <td>270.0</td>\n",
       "      <td>50</td>\n",
       "      <td>85</td>\n",
       "      <td>19.900</td>\n",
       "      <td>12.0</td>\n",
       "      <td>268</td>\n",
       "      <td>1</td>\n",
       "      <td>0</td>\n",
       "      <td>0</td>\n",
       "    </tr>\n",
       "    <tr>\n",
       "      <th>4</th>\n",
       "      <td>IVI-OB6</td>\n",
       "      <td>Dam Dispenser</td>\n",
       "      <td>Dam dispenser #1</td>\n",
       "      <td>AJX75334501</td>\n",
       "      <td>3HPM0007-1</td>\n",
       "      <td>1</td>\n",
       "      <td>OK</td>\n",
       "      <td>240.0</td>\n",
       "      <td>2.5</td>\n",
       "      <td>-90</td>\n",
       "      <td>...</td>\n",
       "      <td>91.8</td>\n",
       "      <td>270.0</td>\n",
       "      <td>50</td>\n",
       "      <td>85</td>\n",
       "      <td>19.700</td>\n",
       "      <td>8.0</td>\n",
       "      <td>121</td>\n",
       "      <td>1</td>\n",
       "      <td>0</td>\n",
       "      <td>0</td>\n",
       "    </tr>\n",
       "  </tbody>\n",
       "</table>\n",
       "<p>5 rows × 178 columns</p>\n",
       "</div>"
      ],
      "text/plain": [
       "  Wip Line_Dam Process Desc._Dam     Equipment_Dam Model.Suffix_Dam  \\\n",
       "0      IVI-OB6     Dam Dispenser  Dam dispenser #1      AJX75334505   \n",
       "1      IVI-OB6     Dam Dispenser  Dam dispenser #1      AJX75334505   \n",
       "2      IVI-OB6     Dam Dispenser  Dam dispenser #2      AJX75334501   \n",
       "3      IVI-OB6     Dam Dispenser  Dam dispenser #2      AJX75334501   \n",
       "4      IVI-OB6     Dam Dispenser  Dam dispenser #1      AJX75334501   \n",
       "\n",
       "  Workorder_Dam  Insp. Seq No._Dam Insp Judge Code_Dam  \\\n",
       "0    4F1XA938-1                  1                  OK   \n",
       "1    3KPM0016-2                  1                  OK   \n",
       "2    4E1X9167-1                  1                  OK   \n",
       "3    3K1X0057-1                  1                  OK   \n",
       "4    3HPM0007-1                  1                  OK   \n",
       "\n",
       "   CURE END POSITION X Collect Result_Dam  \\\n",
       "0                                   240.0   \n",
       "1                                   240.0   \n",
       "2                                  1000.0   \n",
       "3                                  1000.0   \n",
       "4                                   240.0   \n",
       "\n",
       "   CURE END POSITION Z Collect Result_Dam  \\\n",
       "0                                     2.5   \n",
       "1                                     2.5   \n",
       "2                                    12.5   \n",
       "3                                    12.5   \n",
       "4                                     2.5   \n",
       "\n",
       "   CURE END POSITION Θ Collect Result_Dam  ...  \\\n",
       "0                                     -90  ...   \n",
       "1                                     -90  ...   \n",
       "2                                      90  ...   \n",
       "3                                      90  ...   \n",
       "4                                     -90  ...   \n",
       "\n",
       "   Head Clean Position Z Collect Result_Fill2  \\\n",
       "0                                        50.0   \n",
       "1                                        91.8   \n",
       "2                                        50.0   \n",
       "3                                        91.8   \n",
       "4                                        91.8   \n",
       "\n",
       "   Head Purge Position X Collect Result_Fill2  \\\n",
       "0                                        91.8   \n",
       "1                                       270.0   \n",
       "2                                        91.8   \n",
       "3                                       270.0   \n",
       "4                                       270.0   \n",
       "\n",
       "   Head Purge Position Y Collect Result_Fill2  \\\n",
       "0                                         270   \n",
       "1                                          50   \n",
       "2                                         270   \n",
       "3                                          50   \n",
       "4                                          50   \n",
       "\n",
       "   Head Purge Position Z Collect Result_Fill2  \\\n",
       "0                                          50   \n",
       "1                                          85   \n",
       "2                                          50   \n",
       "3                                          85   \n",
       "4                                          85   \n",
       "\n",
       "   Machine Tact time Collect Result_Fill2  PalletID Collect Result_Fill2  \\\n",
       "0                                 114.612                           19.9   \n",
       "1                                  19.600                            7.0   \n",
       "2                                 114.612                           19.8   \n",
       "3                                  19.900                           12.0   \n",
       "4                                  19.700                            8.0   \n",
       "\n",
       "   Production Qty Collect Result_Fill2  Receip No Collect Result_Fill2  \\\n",
       "0                                    7                             127   \n",
       "1                                  185                               1   \n",
       "2                                   10                              73   \n",
       "3                                  268                               1   \n",
       "4                                  121                               1   \n",
       "\n",
       "   WorkMode Collect Result_Fill2  target  \n",
       "0                              1       0  \n",
       "1                              0       0  \n",
       "2                              1       0  \n",
       "3                              0       0  \n",
       "4                              0       0  \n",
       "\n",
       "[5 rows x 178 columns]"
      ]
     },
     "execution_count": 7,
     "metadata": {},
     "output_type": "execute_result"
    }
   ],
   "source": [
    "df.head()"
   ]
  },
  {
   "cell_type": "markdown",
   "metadata": {},
   "source": [
    "### Duplicates"
   ]
  },
  {
   "cell_type": "code",
   "execution_count": 8,
   "metadata": {},
   "outputs": [],
   "source": [
    "CAT = [\"Dam\", \"AutoClave\", \"Fill1\", \"Fill2\"]"
   ]
  },
  {
   "cell_type": "code",
   "execution_count": 9,
   "metadata": {},
   "outputs": [
    {
     "data": {
      "text/plain": [
       "40505"
      ]
     },
     "execution_count": 9,
     "metadata": {},
     "output_type": "execute_result"
    }
   ],
   "source": [
    "wip_line = [f\"Wip Line_{cat}\" for cat in CAT]\n",
    "sum(df.duplicated(subset=wip_line)) # 전부 동일한 행"
   ]
  },
  {
   "cell_type": "code",
   "execution_count": 10,
   "metadata": {},
   "outputs": [
    {
     "name": "stdout",
     "output_type": "stream",
     "text": [
      "['IVI-OB6']\n",
      "['IVI-OB6']\n",
      "['IVI-OB6']\n",
      "['IVI-OB6']\n"
     ]
    }
   ],
   "source": [
    "for cat in CAT:\n",
    "    print(df[f\"Wip Line_{cat}\"].unique())"
   ]
  },
  {
   "cell_type": "code",
   "execution_count": 11,
   "metadata": {},
   "outputs": [],
   "source": [
    "# 전부 IVI-OB6이므로 삭제\n",
    "df.drop(wip_line, axis=1, inplace=True) # 178 entries -> 174 entries"
   ]
  },
  {
   "cell_type": "code",
   "execution_count": 12,
   "metadata": {},
   "outputs": [
    {
     "name": "stdout",
     "output_type": "stream",
     "text": [
      "Dam ['Dam Dispenser']\n",
      "AutoClave ['Auto Clave Out']\n",
      "Fill1 ['Fill1 Dispenser']\n",
      "Fill2 ['Fill2 Dispenser']\n"
     ]
    }
   ],
   "source": [
    "for cat in CAT:\n",
    "    print(cat, df[f\"Process Desc._{cat}\"].unique())"
   ]
  },
  {
   "cell_type": "code",
   "execution_count": 13,
   "metadata": {},
   "outputs": [
    {
     "name": "stdout",
     "output_type": "stream",
     "text": [
      "Dam ['Dam dispenser #1' 'Dam dispenser #2']\n",
      "AutoClave ['Auto Clave Out']\n",
      "Fill1 ['Fill1 dispenser #1' 'Fill1 dispenser #2']\n",
      "Fill2 ['Fill2 dispenser #1' 'Fill2 dispenser #2']\n"
     ]
    }
   ],
   "source": [
    "for cat in CAT:\n",
    "    print(cat, df[f\"Equipment_{cat}\"].unique())"
   ]
  },
  {
   "cell_type": "code",
   "execution_count": 14,
   "metadata": {},
   "outputs": [],
   "source": [
    "process_desc = [f\"Process Desc._{cat}\" for cat in CAT]\n",
    "# Equipment가 Process Desc. 역할하고 있으므로 전부 삭제\n",
    "df.drop(process_desc, axis=1, inplace=True) # 174 entries -> 170 entries"
   ]
  },
  {
   "cell_type": "code",
   "execution_count": 15,
   "metadata": {},
   "outputs": [],
   "source": [
    "for cat in CAT:\n",
    "    col = f\"Equipment_{cat}\"\n",
    "    if cat == \"AutoClave\": # AutoClave는 Auto Clave Out으로 전부 같으므로 삭제\n",
    "        df.drop(col, axis=1, inplace=True) # 170 entries -> 169 entries\n",
    "    else:\n",
    "        df[col] = df[col].str.split(\"#\", expand=True)[1] # e.g.Dam dispenser #1 -> 1 / Dam dispenser #2 -> 2"
   ]
  },
  {
   "cell_type": "code",
   "execution_count": 16,
   "metadata": {},
   "outputs": [
    {
     "name": "stdout",
     "output_type": "stream",
     "text": [
      "['AJX75334505' 'AJX75334501' 'AJX75334502' 'AJX75334507' 'AJX75334506'\n",
      " 'AJX75334508' 'AJX75334503']\n",
      "['AJX75334505' 'AJX75334501' 'AJX75334502' 'AJX75334507' 'AJX75334506'\n",
      " 'AJX75334508' 'AJX75334503']\n",
      "['AJX75334505' 'AJX75334501' 'AJX75334502' 'AJX75334507' 'AJX75334506'\n",
      " 'AJX75334508' 'AJX75334503']\n",
      "['AJX75334505' 'AJX75334501' 'AJX75334502' 'AJX75334507' 'AJX75334506'\n",
      " 'AJX75334508' 'AJX75334503']\n"
     ]
    }
   ],
   "source": [
    "for cat in CAT:\n",
    "    print(df[f\"Model.Suffix_{cat}\"].unique())"
   ]
  },
  {
   "cell_type": "code",
   "execution_count": 17,
   "metadata": {},
   "outputs": [
    {
     "data": {
      "text/html": [
       "<div>\n",
       "<style scoped>\n",
       "    .dataframe tbody tr th:only-of-type {\n",
       "        vertical-align: middle;\n",
       "    }\n",
       "\n",
       "    .dataframe tbody tr th {\n",
       "        vertical-align: top;\n",
       "    }\n",
       "\n",
       "    .dataframe thead th {\n",
       "        text-align: right;\n",
       "    }\n",
       "</style>\n",
       "<table border=\"1\" class=\"dataframe\">\n",
       "  <thead>\n",
       "    <tr style=\"text-align: right;\">\n",
       "      <th></th>\n",
       "      <th>Model.Suffix_Dam</th>\n",
       "      <th>Model.Suffix_AutoClave</th>\n",
       "      <th>Model.Suffix_Fill1</th>\n",
       "      <th>Model.Suffix_Fill2</th>\n",
       "    </tr>\n",
       "  </thead>\n",
       "  <tbody>\n",
       "    <tr>\n",
       "      <th>0</th>\n",
       "      <td>AJX75334505</td>\n",
       "      <td>AJX75334505</td>\n",
       "      <td>AJX75334505</td>\n",
       "      <td>AJX75334505</td>\n",
       "    </tr>\n",
       "    <tr>\n",
       "      <th>2</th>\n",
       "      <td>AJX75334501</td>\n",
       "      <td>AJX75334501</td>\n",
       "      <td>AJX75334501</td>\n",
       "      <td>AJX75334501</td>\n",
       "    </tr>\n",
       "    <tr>\n",
       "      <th>17</th>\n",
       "      <td>AJX75334502</td>\n",
       "      <td>AJX75334502</td>\n",
       "      <td>AJX75334502</td>\n",
       "      <td>AJX75334502</td>\n",
       "    </tr>\n",
       "    <tr>\n",
       "      <th>24</th>\n",
       "      <td>AJX75334507</td>\n",
       "      <td>AJX75334507</td>\n",
       "      <td>AJX75334507</td>\n",
       "      <td>AJX75334507</td>\n",
       "    </tr>\n",
       "    <tr>\n",
       "      <th>141</th>\n",
       "      <td>AJX75334506</td>\n",
       "      <td>AJX75334506</td>\n",
       "      <td>AJX75334506</td>\n",
       "      <td>AJX75334506</td>\n",
       "    </tr>\n",
       "    <tr>\n",
       "      <th>301</th>\n",
       "      <td>AJX75334508</td>\n",
       "      <td>AJX75334508</td>\n",
       "      <td>AJX75334508</td>\n",
       "      <td>AJX75334508</td>\n",
       "    </tr>\n",
       "    <tr>\n",
       "      <th>605</th>\n",
       "      <td>AJX75334503</td>\n",
       "      <td>AJX75334503</td>\n",
       "      <td>AJX75334503</td>\n",
       "      <td>AJX75334503</td>\n",
       "    </tr>\n",
       "  </tbody>\n",
       "</table>\n",
       "</div>"
      ],
      "text/plain": [
       "    Model.Suffix_Dam Model.Suffix_AutoClave Model.Suffix_Fill1  \\\n",
       "0        AJX75334505            AJX75334505        AJX75334505   \n",
       "2        AJX75334501            AJX75334501        AJX75334501   \n",
       "17       AJX75334502            AJX75334502        AJX75334502   \n",
       "24       AJX75334507            AJX75334507        AJX75334507   \n",
       "141      AJX75334506            AJX75334506        AJX75334506   \n",
       "301      AJX75334508            AJX75334508        AJX75334508   \n",
       "605      AJX75334503            AJX75334503        AJX75334503   \n",
       "\n",
       "    Model.Suffix_Fill2  \n",
       "0          AJX75334505  \n",
       "2          AJX75334501  \n",
       "17         AJX75334502  \n",
       "24         AJX75334507  \n",
       "141        AJX75334506  \n",
       "301        AJX75334508  \n",
       "605        AJX75334503  "
      ]
     },
     "execution_count": 17,
     "metadata": {},
     "output_type": "execute_result"
    }
   ],
   "source": [
    "model_suffix = [f\"Model.Suffix_{cat}\" for cat in CAT]\n",
    "df[~df.duplicated(subset=model_suffix)][model_suffix]"
   ]
  },
  {
   "cell_type": "code",
   "execution_count": 18,
   "metadata": {},
   "outputs": [],
   "source": [
    "df[\"Model.Suffix\"] = df[\"Model.Suffix_Dam\"]\n",
    "model_suffix = [f\"Model.Suffix_{cat}\" for cat in CAT]\n",
    "# 전부 같으므로 통합한 Model.Suffix 열 만들고 다 삭제\n",
    "df.drop(model_suffix, axis=1, inplace=True) # 169 entries -> 166 entries"
   ]
  },
  {
   "cell_type": "code",
   "execution_count": 19,
   "metadata": {},
   "outputs": [
    {
     "data": {
      "text/plain": [
       "array(['AJX7'], dtype=object)"
      ]
     },
     "execution_count": 19,
     "metadata": {},
     "output_type": "execute_result"
    }
   ],
   "source": [
    "df[\"Model.Suffix\"].str[:4].unique()\n",
    "# 모두 AJX7므로 대카테고리 안만들기로 함"
   ]
  },
  {
   "cell_type": "code",
   "execution_count": 20,
   "metadata": {},
   "outputs": [
    {
     "name": "stdout",
     "output_type": "stream",
     "text": [
      "[1]\n",
      "[1]\n",
      "[1]\n",
      "[1]\n"
     ]
    }
   ],
   "source": [
    "for cat in CAT:\n",
    "    print(df[f\"Insp. Seq No._{cat}\"].unique())"
   ]
  },
  {
   "cell_type": "code",
   "execution_count": 21,
   "metadata": {},
   "outputs": [],
   "source": [
    "insp_seq_no = [f\"Insp. Seq No._{cat}\" for cat in CAT]\n",
    "# 모두 값이 1로 같으므로 전부 삭제\n",
    "df.drop(insp_seq_no, axis=1, inplace=True) # 166 entries -> 162 entries"
   ]
  },
  {
   "cell_type": "code",
   "execution_count": 22,
   "metadata": {},
   "outputs": [
    {
     "name": "stdout",
     "output_type": "stream",
     "text": [
      "['OK']\n",
      "['OK']\n",
      "['OK']\n",
      "['OK']\n"
     ]
    }
   ],
   "source": [
    "for cat in CAT:\n",
    "    print(df[f\"Insp Judge Code_{cat}\"].unique())"
   ]
  },
  {
   "cell_type": "code",
   "execution_count": 23,
   "metadata": {},
   "outputs": [],
   "source": [
    "insp_jude_code = [f\"Insp Judge Code_{cat}\" for cat in CAT]\n",
    "# 모두 값이 OK로 같으므로 전부 삭제\n",
    "df.drop(insp_jude_code, axis=1, inplace=True) # 162 entries -> 158 entries"
   ]
  },
  {
   "cell_type": "code",
   "execution_count": 24,
   "metadata": {},
   "outputs": [],
   "source": [
    "# Workorder 전부 같으므로 통합한 Workorder 카테고리 만들고 전부 삭제\n",
    "df[\"Workorder\"] = df[\"Workorder_Dam\"]\n",
    "work_order = [f\"Workorder_{cat}\" for cat in CAT]\n",
    "df.drop(work_order, axis=1, inplace=True) # 158 entries -> 155 entries"
   ]
  },
  {
   "cell_type": "code",
   "execution_count": 25,
   "metadata": {},
   "outputs": [
    {
     "data": {
      "text/plain": [
       "array(['4F1X', '3KPM', '4E1X', '3K1X', '3HPM', '3G1X', '3M1X', '4A1X',\n",
       "       '3H1X', '3L1X', '3GPM', '3F1X', '4B1X', '4C1X', '3MPX', '3I1X',\n",
       "       '3J1X', '3JPX', '4CPM', '3LPM', '4BPX', '4BPM', '3HPX', '4CPX',\n",
       "       '4EPM', '3FPM', '4APX', '3KPX', '3FPX'], dtype=object)"
      ]
     },
     "execution_count": 25,
     "metadata": {},
     "output_type": "execute_result"
    }
   ],
   "source": [
    "df[\"Workorder\"].str.split('-', expand=True)[0].str[:4].unique()"
   ]
  },
  {
   "cell_type": "code",
   "execution_count": 26,
   "metadata": {},
   "outputs": [],
   "source": [
    "df[\"Workorder Category\"] = df[\"Workorder\"].str.split('-', expand=True)[0].str[:4] # 156 entries"
   ]
  },
  {
   "cell_type": "code",
   "execution_count": 27,
   "metadata": {},
   "outputs": [],
   "source": [
    "df.rename(columns={\"1st Pressure 1st Pressure Unit Time_AutoClave\": \"1st Pressure Unit Time_AutoClave\"}, inplace=True)"
   ]
  },
  {
   "cell_type": "code",
   "execution_count": 28,
   "metadata": {},
   "outputs": [],
   "source": [
    "# CAT 기준으로 열 그룹화\n",
    "def get_columns_group(df):\n",
    "    grouped_columns = {}\n",
    "    for col in df.columns:\n",
    "        key = col.split('_')[-1]\n",
    "        if key not in grouped_columns:\n",
    "            grouped_columns[key] = []\n",
    "        grouped_columns[key].append(col)\n",
    "    \n",
    "    return grouped_columns"
   ]
  },
  {
   "cell_type": "markdown",
   "metadata": {},
   "source": [
    "### AutoClave"
   ]
  },
  {
   "cell_type": "code",
   "execution_count": 29,
   "metadata": {},
   "outputs": [],
   "source": [
    "grouped_columns = get_columns_group(df)"
   ]
  },
  {
   "cell_type": "code",
   "execution_count": 30,
   "metadata": {},
   "outputs": [
    {
     "data": {
      "text/html": [
       "<div>\n",
       "<style scoped>\n",
       "    .dataframe tbody tr th:only-of-type {\n",
       "        vertical-align: middle;\n",
       "    }\n",
       "\n",
       "    .dataframe tbody tr th {\n",
       "        vertical-align: top;\n",
       "    }\n",
       "\n",
       "    .dataframe thead th {\n",
       "        text-align: right;\n",
       "    }\n",
       "</style>\n",
       "<table border=\"1\" class=\"dataframe\">\n",
       "  <thead>\n",
       "    <tr style=\"text-align: right;\">\n",
       "      <th></th>\n",
       "      <th>1st Pressure Collect Result_AutoClave</th>\n",
       "      <th>1st Pressure Unit Time_AutoClave</th>\n",
       "      <th>1st Pressure Judge Value_AutoClave</th>\n",
       "      <th>2nd Pressure Collect Result_AutoClave</th>\n",
       "      <th>2nd Pressure Unit Time_AutoClave</th>\n",
       "      <th>2nd Pressure Judge Value_AutoClave</th>\n",
       "      <th>3rd Pressure Collect Result_AutoClave</th>\n",
       "      <th>3rd Pressure Unit Time_AutoClave</th>\n",
       "      <th>3rd Pressure Judge Value_AutoClave</th>\n",
       "      <th>Chamber Temp. Collect Result_AutoClave</th>\n",
       "      <th>Chamber Temp. Unit Time_AutoClave</th>\n",
       "      <th>Chamber Temp. Judge Value_AutoClave</th>\n",
       "    </tr>\n",
       "  </thead>\n",
       "  <tbody>\n",
       "    <tr>\n",
       "      <th>0</th>\n",
       "      <td>0.312</td>\n",
       "      <td>240</td>\n",
       "      <td>OK</td>\n",
       "      <td>0.493</td>\n",
       "      <td>1</td>\n",
       "      <td>OK</td>\n",
       "      <td>0.499</td>\n",
       "      <td>120</td>\n",
       "      <td>OK</td>\n",
       "      <td>54</td>\n",
       "      <td>361</td>\n",
       "      <td>OK</td>\n",
       "    </tr>\n",
       "    <tr>\n",
       "      <th>1</th>\n",
       "      <td>0.311</td>\n",
       "      <td>241</td>\n",
       "      <td>OK</td>\n",
       "      <td>0.311</td>\n",
       "      <td>121</td>\n",
       "      <td>OK</td>\n",
       "      <td>0.498</td>\n",
       "      <td>121</td>\n",
       "      <td>OK</td>\n",
       "      <td>54</td>\n",
       "      <td>483</td>\n",
       "      <td>OK</td>\n",
       "    </tr>\n",
       "    <tr>\n",
       "      <th>2</th>\n",
       "      <td>0.315</td>\n",
       "      <td>241</td>\n",
       "      <td>OK</td>\n",
       "      <td>0.490</td>\n",
       "      <td>1</td>\n",
       "      <td>OK</td>\n",
       "      <td>0.498</td>\n",
       "      <td>121</td>\n",
       "      <td>OK</td>\n",
       "      <td>56</td>\n",
       "      <td>363</td>\n",
       "      <td>OK</td>\n",
       "    </tr>\n",
       "    <tr>\n",
       "      <th>3</th>\n",
       "      <td>0.299</td>\n",
       "      <td>241</td>\n",
       "      <td>OK</td>\n",
       "      <td>0.300</td>\n",
       "      <td>121</td>\n",
       "      <td>OK</td>\n",
       "      <td>0.500</td>\n",
       "      <td>121</td>\n",
       "      <td>OK</td>\n",
       "      <td>54</td>\n",
       "      <td>483</td>\n",
       "      <td>OK</td>\n",
       "    </tr>\n",
       "    <tr>\n",
       "      <th>4</th>\n",
       "      <td>0.302</td>\n",
       "      <td>240</td>\n",
       "      <td>OK</td>\n",
       "      <td>0.302</td>\n",
       "      <td>120</td>\n",
       "      <td>OK</td>\n",
       "      <td>0.498</td>\n",
       "      <td>120</td>\n",
       "      <td>OK</td>\n",
       "      <td>47</td>\n",
       "      <td>480</td>\n",
       "      <td>NG</td>\n",
       "    </tr>\n",
       "  </tbody>\n",
       "</table>\n",
       "</div>"
      ],
      "text/plain": [
       "   1st Pressure Collect Result_AutoClave  1st Pressure Unit Time_AutoClave  \\\n",
       "0                                  0.312                               240   \n",
       "1                                  0.311                               241   \n",
       "2                                  0.315                               241   \n",
       "3                                  0.299                               241   \n",
       "4                                  0.302                               240   \n",
       "\n",
       "  1st Pressure Judge Value_AutoClave  2nd Pressure Collect Result_AutoClave  \\\n",
       "0                                 OK                                  0.493   \n",
       "1                                 OK                                  0.311   \n",
       "2                                 OK                                  0.490   \n",
       "3                                 OK                                  0.300   \n",
       "4                                 OK                                  0.302   \n",
       "\n",
       "   2nd Pressure Unit Time_AutoClave 2nd Pressure Judge Value_AutoClave  \\\n",
       "0                                 1                                 OK   \n",
       "1                               121                                 OK   \n",
       "2                                 1                                 OK   \n",
       "3                               121                                 OK   \n",
       "4                               120                                 OK   \n",
       "\n",
       "   3rd Pressure Collect Result_AutoClave  3rd Pressure Unit Time_AutoClave  \\\n",
       "0                                  0.499                               120   \n",
       "1                                  0.498                               121   \n",
       "2                                  0.498                               121   \n",
       "3                                  0.500                               121   \n",
       "4                                  0.498                               120   \n",
       "\n",
       "  3rd Pressure Judge Value_AutoClave  Chamber Temp. Collect Result_AutoClave  \\\n",
       "0                                 OK                                      54   \n",
       "1                                 OK                                      54   \n",
       "2                                 OK                                      56   \n",
       "3                                 OK                                      54   \n",
       "4                                 OK                                      47   \n",
       "\n",
       "   Chamber Temp. Unit Time_AutoClave Chamber Temp. Judge Value_AutoClave  \n",
       "0                                361                                  OK  \n",
       "1                                483                                  OK  \n",
       "2                                363                                  OK  \n",
       "3                                483                                  OK  \n",
       "4                                480                                  NG  "
      ]
     },
     "execution_count": 30,
     "metadata": {},
     "output_type": "execute_result"
    }
   ],
   "source": [
    "df_auto = df[grouped_columns[\"AutoClave\"]]\n",
    "df_auto.head()"
   ]
  },
  {
   "cell_type": "code",
   "execution_count": 31,
   "metadata": {},
   "outputs": [
    {
     "name": "stdout",
     "output_type": "stream",
     "text": [
      "<class 'pandas.core.frame.DataFrame'>\n",
      "RangeIndex: 40506 entries, 0 to 40505\n",
      "Data columns (total 12 columns):\n",
      " #   Column                                  Non-Null Count  Dtype  \n",
      "---  ------                                  --------------  -----  \n",
      " 0   1st Pressure Collect Result_AutoClave   40506 non-null  float64\n",
      " 1   1st Pressure Unit Time_AutoClave        40506 non-null  int64  \n",
      " 2   1st Pressure Judge Value_AutoClave      40506 non-null  object \n",
      " 3   2nd Pressure Collect Result_AutoClave   40506 non-null  float64\n",
      " 4   2nd Pressure Unit Time_AutoClave        40506 non-null  int64  \n",
      " 5   2nd Pressure Judge Value_AutoClave      40506 non-null  object \n",
      " 6   3rd Pressure Collect Result_AutoClave   40506 non-null  float64\n",
      " 7   3rd Pressure Unit Time_AutoClave        40506 non-null  int64  \n",
      " 8   3rd Pressure Judge Value_AutoClave      40506 non-null  object \n",
      " 9   Chamber Temp. Collect Result_AutoClave  40506 non-null  int64  \n",
      " 10  Chamber Temp. Unit Time_AutoClave       40506 non-null  int64  \n",
      " 11  Chamber Temp. Judge Value_AutoClave     40506 non-null  object \n",
      "dtypes: float64(3), int64(5), object(4)\n",
      "memory usage: 3.7+ MB\n"
     ]
    }
   ],
   "source": [
    "df_auto.info()"
   ]
  },
  {
   "cell_type": "code",
   "execution_count": 32,
   "metadata": {},
   "outputs": [
    {
     "data": {
      "text/html": [
       "<div>\n",
       "<style scoped>\n",
       "    .dataframe tbody tr th:only-of-type {\n",
       "        vertical-align: middle;\n",
       "    }\n",
       "\n",
       "    .dataframe tbody tr th {\n",
       "        vertical-align: top;\n",
       "    }\n",
       "\n",
       "    .dataframe thead th {\n",
       "        text-align: right;\n",
       "    }\n",
       "</style>\n",
       "<table border=\"1\" class=\"dataframe\">\n",
       "  <thead>\n",
       "    <tr style=\"text-align: right;\">\n",
       "      <th></th>\n",
       "      <th>1st Pressure Collect Result_AutoClave</th>\n",
       "      <th>1st Pressure Unit Time_AutoClave</th>\n",
       "      <th>2nd Pressure Collect Result_AutoClave</th>\n",
       "      <th>2nd Pressure Unit Time_AutoClave</th>\n",
       "      <th>3rd Pressure Collect Result_AutoClave</th>\n",
       "      <th>3rd Pressure Unit Time_AutoClave</th>\n",
       "      <th>Chamber Temp. Collect Result_AutoClave</th>\n",
       "      <th>Chamber Temp. Unit Time_AutoClave</th>\n",
       "    </tr>\n",
       "  </thead>\n",
       "  <tbody>\n",
       "    <tr>\n",
       "      <th>count</th>\n",
       "      <td>40506.000000</td>\n",
       "      <td>40506.000000</td>\n",
       "      <td>40506.000000</td>\n",
       "      <td>40506.000000</td>\n",
       "      <td>40506.000000</td>\n",
       "      <td>40506.000000</td>\n",
       "      <td>40506.000000</td>\n",
       "      <td>40506.000000</td>\n",
       "    </tr>\n",
       "    <tr>\n",
       "      <th>mean</th>\n",
       "      <td>0.307124</td>\n",
       "      <td>244.949119</td>\n",
       "      <td>0.396764</td>\n",
       "      <td>56.932035</td>\n",
       "      <td>0.501117</td>\n",
       "      <td>122.104059</td>\n",
       "      <td>51.691725</td>\n",
       "      <td>423.985212</td>\n",
       "    </tr>\n",
       "    <tr>\n",
       "      <th>std</th>\n",
       "      <td>0.005369</td>\n",
       "      <td>21.475360</td>\n",
       "      <td>0.096129</td>\n",
       "      <td>56.123765</td>\n",
       "      <td>0.025190</td>\n",
       "      <td>8.775836</td>\n",
       "      <td>2.878083</td>\n",
       "      <td>61.066771</td>\n",
       "    </tr>\n",
       "    <tr>\n",
       "      <th>min</th>\n",
       "      <td>0.290000</td>\n",
       "      <td>0.000000</td>\n",
       "      <td>0.297000</td>\n",
       "      <td>0.000000</td>\n",
       "      <td>0.305000</td>\n",
       "      <td>1.000000</td>\n",
       "      <td>32.000000</td>\n",
       "      <td>3.000000</td>\n",
       "    </tr>\n",
       "    <tr>\n",
       "      <th>25%</th>\n",
       "      <td>0.302000</td>\n",
       "      <td>241.000000</td>\n",
       "      <td>0.309000</td>\n",
       "      <td>1.000000</td>\n",
       "      <td>0.498000</td>\n",
       "      <td>120.000000</td>\n",
       "      <td>49.000000</td>\n",
       "      <td>363.000000</td>\n",
       "    </tr>\n",
       "    <tr>\n",
       "      <th>50%</th>\n",
       "      <td>0.308000</td>\n",
       "      <td>241.000000</td>\n",
       "      <td>0.316000</td>\n",
       "      <td>60.000000</td>\n",
       "      <td>0.499000</td>\n",
       "      <td>121.000000</td>\n",
       "      <td>52.000000</td>\n",
       "      <td>452.000000</td>\n",
       "    </tr>\n",
       "    <tr>\n",
       "      <th>75%</th>\n",
       "      <td>0.312000</td>\n",
       "      <td>241.000000</td>\n",
       "      <td>0.491000</td>\n",
       "      <td>121.000000</td>\n",
       "      <td>0.500000</td>\n",
       "      <td>121.000000</td>\n",
       "      <td>54.000000</td>\n",
       "      <td>483.000000</td>\n",
       "    </tr>\n",
       "    <tr>\n",
       "      <th>max</th>\n",
       "      <td>0.319000</td>\n",
       "      <td>300.000000</td>\n",
       "      <td>0.900000</td>\n",
       "      <td>181.000000</td>\n",
       "      <td>0.914000</td>\n",
       "      <td>301.000000</td>\n",
       "      <td>59.000000</td>\n",
       "      <td>540.000000</td>\n",
       "    </tr>\n",
       "  </tbody>\n",
       "</table>\n",
       "</div>"
      ],
      "text/plain": [
       "       1st Pressure Collect Result_AutoClave  \\\n",
       "count                           40506.000000   \n",
       "mean                                0.307124   \n",
       "std                                 0.005369   \n",
       "min                                 0.290000   \n",
       "25%                                 0.302000   \n",
       "50%                                 0.308000   \n",
       "75%                                 0.312000   \n",
       "max                                 0.319000   \n",
       "\n",
       "       1st Pressure Unit Time_AutoClave  \\\n",
       "count                      40506.000000   \n",
       "mean                         244.949119   \n",
       "std                           21.475360   \n",
       "min                            0.000000   \n",
       "25%                          241.000000   \n",
       "50%                          241.000000   \n",
       "75%                          241.000000   \n",
       "max                          300.000000   \n",
       "\n",
       "       2nd Pressure Collect Result_AutoClave  \\\n",
       "count                           40506.000000   \n",
       "mean                                0.396764   \n",
       "std                                 0.096129   \n",
       "min                                 0.297000   \n",
       "25%                                 0.309000   \n",
       "50%                                 0.316000   \n",
       "75%                                 0.491000   \n",
       "max                                 0.900000   \n",
       "\n",
       "       2nd Pressure Unit Time_AutoClave  \\\n",
       "count                      40506.000000   \n",
       "mean                          56.932035   \n",
       "std                           56.123765   \n",
       "min                            0.000000   \n",
       "25%                            1.000000   \n",
       "50%                           60.000000   \n",
       "75%                          121.000000   \n",
       "max                          181.000000   \n",
       "\n",
       "       3rd Pressure Collect Result_AutoClave  \\\n",
       "count                           40506.000000   \n",
       "mean                                0.501117   \n",
       "std                                 0.025190   \n",
       "min                                 0.305000   \n",
       "25%                                 0.498000   \n",
       "50%                                 0.499000   \n",
       "75%                                 0.500000   \n",
       "max                                 0.914000   \n",
       "\n",
       "       3rd Pressure Unit Time_AutoClave  \\\n",
       "count                      40506.000000   \n",
       "mean                         122.104059   \n",
       "std                            8.775836   \n",
       "min                            1.000000   \n",
       "25%                          120.000000   \n",
       "50%                          121.000000   \n",
       "75%                          121.000000   \n",
       "max                          301.000000   \n",
       "\n",
       "       Chamber Temp. Collect Result_AutoClave  \\\n",
       "count                            40506.000000   \n",
       "mean                                51.691725   \n",
       "std                                  2.878083   \n",
       "min                                 32.000000   \n",
       "25%                                 49.000000   \n",
       "50%                                 52.000000   \n",
       "75%                                 54.000000   \n",
       "max                                 59.000000   \n",
       "\n",
       "       Chamber Temp. Unit Time_AutoClave  \n",
       "count                       40506.000000  \n",
       "mean                          423.985212  \n",
       "std                            61.066771  \n",
       "min                             3.000000  \n",
       "25%                           363.000000  \n",
       "50%                           452.000000  \n",
       "75%                           483.000000  \n",
       "max                           540.000000  "
      ]
     },
     "execution_count": 32,
     "metadata": {},
     "output_type": "execute_result"
    }
   ],
   "source": [
    "df_auto.describe()"
   ]
  },
  {
   "cell_type": "code",
   "execution_count": 33,
   "metadata": {},
   "outputs": [
    {
     "data": {
      "text/plain": [
       "array(['OK'], dtype=object)"
      ]
     },
     "execution_count": 33,
     "metadata": {},
     "output_type": "execute_result"
    }
   ],
   "source": [
    "df[\"1st Pressure Judge Value_AutoClave\"].unique()"
   ]
  },
  {
   "cell_type": "code",
   "execution_count": 34,
   "metadata": {},
   "outputs": [
    {
     "data": {
      "text/plain": [
       "array(['OK'], dtype=object)"
      ]
     },
     "execution_count": 34,
     "metadata": {},
     "output_type": "execute_result"
    }
   ],
   "source": [
    "df[\"2nd Pressure Judge Value_AutoClave\"].unique()"
   ]
  },
  {
   "cell_type": "code",
   "execution_count": 35,
   "metadata": {},
   "outputs": [
    {
     "data": {
      "text/plain": [
       "array(['OK'], dtype=object)"
      ]
     },
     "execution_count": 35,
     "metadata": {},
     "output_type": "execute_result"
    }
   ],
   "source": [
    "df[\"3rd Pressure Judge Value_AutoClave\"].unique()"
   ]
  },
  {
   "cell_type": "code",
   "execution_count": 36,
   "metadata": {},
   "outputs": [
    {
     "data": {
      "image/png": "[encoded data removed]",
      "text/plain": [
       "<Figure size 640x480 with 1 Axes>"
      ]
     },
     "metadata": {},
     "output_type": "display_data"
    }
   ],
   "source": [
    "df[\"Chamber Temp. Judge Value_AutoClave\"].value_counts().sort_values().plot(kind=\"barh\");"
   ]
  },
  {
   "cell_type": "code",
   "execution_count": 54,
   "metadata": {},
   "outputs": [
    {
     "data": {
      "image/png": "[encoded data removed]",
      "text/plain": [
       "<Figure size 640x480 with 1 Axes>"
      ]
     },
     "metadata": {},
     "output_type": "display_data"
    }
   ],
   "source": [
    "sns.countplot(x=\"Chamber Temp. Judge Value_AutoClave\", hue=\"target\", data=df);"
   ]
  },
  {
   "cell_type": "code",
   "execution_count": 37,
   "metadata": {},
   "outputs": [],
   "source": [
    "# 모두 Ok 값이므로 삭제\n",
    "df.drop([\"1st Pressure Judge Value_AutoClave\",\n",
    "         \"2nd Pressure Judge Value_AutoClave\",\n",
    "         \"3rd Pressure Judge Value_AutoClave\"], axis=1, inplace=True) # 153 entries"
   ]
  },
  {
   "cell_type": "code",
   "execution_count": 38,
   "metadata": {},
   "outputs": [],
   "source": [
    "# from sklearn.preprocessing import LabelEncoder\n",
    "\n",
    "# le = LabelEncoder()\n",
    "# le.fit_transform(df[\"Chamber Temp. Judge Value_AutoClave\"])\n",
    "\n",
    "# # Ok (1) NG (0)\n",
    "# df[\"Chamber Temp. Judge Value_AutoClave\"] = le.fit_transform(df[\"Chamber Temp. Judge Value_AutoClave\"])"
   ]
  },
  {
   "cell_type": "code",
   "execution_count": 39,
   "metadata": {},
   "outputs": [],
   "source": [
    "pressure_unit_time = df[[\"1st Pressure Unit Time_AutoClave\", \n",
    "                         \"2nd Pressure Unit Time_AutoClave\",\n",
    "                         \"3rd Pressure Unit Time_AutoClave\",]]\n",
    "\n",
    "df[\"Mean Pressure Unit Time_AutoClave\"] = pressure_unit_time.apply(\"mean\", axis=1).astype('int64')"
   ]
  },
  {
   "cell_type": "code",
   "execution_count": 40,
   "metadata": {},
   "outputs": [
    {
     "data": {
      "image/png": "[encoded data removed]",
      "text/plain": [
       "<Figure size 1500x1000 with 4 Axes>"
      ]
     },
     "metadata": {},
     "output_type": "display_data"
    }
   ],
   "source": [
    "fig, axes = plt.subplots(nrows=2, ncols=2, figsize=(15, 10))\n",
    "\n",
    "df[\"1st Pressure Unit Time_AutoClave\"].value_counts().plot.bar(ax=axes[0, 0], title=\"1st\");\n",
    "df[\"2nd Pressure Unit Time_AutoClave\"].value_counts().plot.bar(ax=axes[0, 1], title=\"2nd\");\n",
    "df[\"3rd Pressure Unit Time_AutoClave\"].value_counts().plot.bar(ax=axes[1, 0], title=\"3rd\");\n",
    "df[\"Mean Pressure Unit Time_AutoClave\"].value_counts().plot.bar(ax=axes[1, 1], title=\"Mean\");\n",
    "fig.suptitle(\"Pressure Unit Time_AutoClave\", size=20)\n",
    "plt.tight_layout();"
   ]
  },
  {
   "cell_type": "code",
   "execution_count": 41,
   "metadata": {},
   "outputs": [
    {
     "data": {
      "image/png": "[encoded data removed]",
      "text/plain": [
       "<Figure size 1500x1000 with 4 Axes>"
      ]
     },
     "metadata": {},
     "output_type": "display_data"
    }
   ],
   "source": [
    "fig, axes = plt.subplots(nrows=2, ncols=2, figsize=(15, 10))\n",
    "\n",
    "df[\"1st Pressure Collect Result_AutoClave\"].value_counts().plot.bar(ax=axes[0, 0], title=\"1st\");\n",
    "df[\"2nd Pressure Collect Result_AutoClave\"].value_counts().plot.bar(ax=axes[0, 1], title=\"2nd\");\n",
    "df[\"3rd Pressure Collect Result_AutoClave\"].value_counts().plot.bar(ax=axes[1, 0], title=\"3rd\");\n",
    "df[\"Chamber Temp. Collect Result_AutoClave\"].value_counts().plot.bar(ax=axes[1, 1], title=\"Chamber\");\n",
    "fig.suptitle(\"Collect Result_AutoClave\", size=20)\n",
    "plt.tight_layout();"
   ]
  },
  {
   "cell_type": "code",
   "execution_count": 42,
   "metadata": {},
   "outputs": [
    {
     "data": {
      "image/png": "[encoded data removed]",
      "text/plain": [
       "<Figure size 1500x1000 with 4 Axes>"
      ]
     },
     "metadata": {},
     "output_type": "display_data"
    }
   ],
   "source": [
    "fig, axes = plt.subplots(nrows=2, ncols=2, figsize=(15, 10))\n",
    "\n",
    "df[\"1st Pressure Collect Result_AutoClave\"].plot.box(ax=axes[0, 0], title=\"1st\");\n",
    "df[\"2nd Pressure Collect Result_AutoClave\"].plot.box(ax=axes[0, 1], title=\"2nd\");\n",
    "df[\"3rd Pressure Collect Result_AutoClave\"].plot.box(ax=axes[1, 0], title=\"3rd\");\n",
    "df[\"Chamber Temp. Collect Result_AutoClave\"].plot.box(ax=axes[1, 1], title=\"Chamber\");\n",
    "plt.tight_layout();"
   ]
  },
  {
   "cell_type": "code",
   "execution_count": 43,
   "metadata": {},
   "outputs": [
    {
     "name": "stdout",
     "output_type": "stream",
     "text": [
      "Q1: 0.498\n",
      "Q3: 0.5\n"
     ]
    }
   ],
   "source": [
    "Q1 = df['3rd Pressure Collect Result_AutoClave'].quantile(0.25)\n",
    "Q3 = df['3rd Pressure Collect Result_AutoClave'].quantile(0.75)\n",
    "IQR = Q3 - Q1\n",
    "print(f\"Q1: {Q1}\")\n",
    "print(f\"Q3: {Q3}\") # 2098개"
   ]
  },
  {
   "cell_type": "code",
   "execution_count": 44,
   "metadata": {},
   "outputs": [],
   "source": [
    "lower_bound = Q1 - 1.5 * IQR\n",
    "upper_bound = Q3 + 1.5 * IQR\n",
    "\n",
    "df = df[(df['3rd Pressure Collect Result_AutoClave'] >= lower_bound) & (df['3rd Pressure Collect Result_AutoClave'] <= upper_bound)]"
   ]
  },
  {
   "cell_type": "code",
   "execution_count": 45,
   "metadata": {},
   "outputs": [
    {
     "data": {
      "image/png": "[encoded data removed]",
      "text/plain": [
       "<Figure size 640x480 with 1 Axes>"
      ]
     },
     "metadata": {},
     "output_type": "display_data"
    }
   ],
   "source": [
    "df[\"3rd Pressure Collect Result_AutoClave\"].plot.box();"
   ]
  },
  {
   "cell_type": "code",
   "execution_count": 46,
   "metadata": {},
   "outputs": [],
   "source": [
    "pressure_collect_result = df[[\"1st Pressure Collect Result_AutoClave\", \n",
    "                              \"2nd Pressure Collect Result_AutoClave\",\n",
    "                              \"3rd Pressure Collect Result_AutoClave\",]]\n",
    "\n",
    "df[\"Mean Pressure Collect Result_AutoClave\"] = pressure_collect_result.apply(\"mean\", axis=1).round(3)"
   ]
  },
  {
   "cell_type": "code",
   "execution_count": 47,
   "metadata": {},
   "outputs": [
    {
     "data": {
      "image/png": "[encoded data removed]",
      "text/plain": [
       "<Figure size 640x480 with 1 Axes>"
      ]
     },
     "metadata": {},
     "output_type": "display_data"
    }
   ],
   "source": [
    "df[\"Mean Pressure Collect Result_AutoClave\"].value_counts().plot.bar();"
   ]
  },
  {
   "cell_type": "code",
   "execution_count": null,
   "metadata": {},
   "outputs": [],
   "source": [
    "# df[\"target\"].unique()"
   ]
  },
  {
   "cell_type": "code",
   "execution_count": null,
   "metadata": {},
   "outputs": [],
   "source": [
    "# # 우리가 파악해야하는 건 AbNormal이므로 1로 설정\n",
    "# df[\"target\"] = df[\"target\"].map({\"Normal\": 0, \"AbNormal\": 1})"
   ]
  },
  {
   "cell_type": "code",
   "execution_count": null,
   "metadata": {},
   "outputs": [],
   "source": [
    "# # save csv\n",
    "# df.to_csv(os.path.join(ROOT_DIR, \"pre_1.csv\"), index=False)"
   ]
  },
  {
   "cell_type": "markdown",
   "metadata": {},
   "source": [
    "## Dam"
   ]
  },
  {
   "cell_type": "code",
   "execution_count": 71,
   "metadata": {},
   "outputs": [],
   "source": [
    "grouped_columns = get_columns_group(df)"
   ]
  },
  {
   "cell_type": "code",
   "execution_count": 72,
   "metadata": {},
   "outputs": [
    {
     "data": {
      "text/html": [
       "<div>\n",
       "<style scoped>\n",
       "    .dataframe tbody tr th:only-of-type {\n",
       "        vertical-align: middle;\n",
       "    }\n",
       "\n",
       "    .dataframe tbody tr th {\n",
       "        vertical-align: top;\n",
       "    }\n",
       "\n",
       "    .dataframe thead th {\n",
       "        text-align: right;\n",
       "    }\n",
       "</style>\n",
       "<table border=\"1\" class=\"dataframe\">\n",
       "  <thead>\n",
       "    <tr style=\"text-align: right;\">\n",
       "      <th></th>\n",
       "      <th>0</th>\n",
       "      <th>1</th>\n",
       "      <th>2</th>\n",
       "    </tr>\n",
       "  </thead>\n",
       "  <tbody>\n",
       "    <tr>\n",
       "      <th>Equipment_Dam</th>\n",
       "      <td>1</td>\n",
       "      <td>1</td>\n",
       "      <td>2</td>\n",
       "    </tr>\n",
       "    <tr>\n",
       "      <th>CURE END POSITION X Collect Result_Dam</th>\n",
       "      <td>240.0</td>\n",
       "      <td>240.0</td>\n",
       "      <td>1000.0</td>\n",
       "    </tr>\n",
       "    <tr>\n",
       "      <th>CURE END POSITION Z Collect Result_Dam</th>\n",
       "      <td>2.5</td>\n",
       "      <td>2.5</td>\n",
       "      <td>12.5</td>\n",
       "    </tr>\n",
       "    <tr>\n",
       "      <th>CURE END POSITION Θ Collect Result_Dam</th>\n",
       "      <td>-90</td>\n",
       "      <td>-90</td>\n",
       "      <td>90</td>\n",
       "    </tr>\n",
       "    <tr>\n",
       "      <th>CURE SPEED Collect Result_Dam</th>\n",
       "      <td>100</td>\n",
       "      <td>70</td>\n",
       "      <td>85</td>\n",
       "    </tr>\n",
       "    <tr>\n",
       "      <th>...</th>\n",
       "      <td>...</td>\n",
       "      <td>...</td>\n",
       "      <td>...</td>\n",
       "    </tr>\n",
       "    <tr>\n",
       "      <th>Stage3 Line4 Distance Speed Collect Result_Dam</th>\n",
       "      <td>5800</td>\n",
       "      <td>4000</td>\n",
       "      <td>5800</td>\n",
       "    </tr>\n",
       "    <tr>\n",
       "      <th>THICKNESS 1 Collect Result_Dam</th>\n",
       "      <td>5800</td>\n",
       "      <td>0</td>\n",
       "      <td>5800</td>\n",
       "    </tr>\n",
       "    <tr>\n",
       "      <th>THICKNESS 2 Collect Result_Dam</th>\n",
       "      <td>0.0</td>\n",
       "      <td>0.0</td>\n",
       "      <td>0.012</td>\n",
       "    </tr>\n",
       "    <tr>\n",
       "      <th>THICKNESS 3 Collect Result_Dam</th>\n",
       "      <td>0.0</td>\n",
       "      <td>0.0</td>\n",
       "      <td>-0.022</td>\n",
       "    </tr>\n",
       "    <tr>\n",
       "      <th>WorkMode Collect Result_Dam</th>\n",
       "      <td>0.0</td>\n",
       "      <td>7.0</td>\n",
       "      <td>0.003</td>\n",
       "    </tr>\n",
       "  </tbody>\n",
       "</table>\n",
       "<p>70 rows × 3 columns</p>\n",
       "</div>"
      ],
      "text/plain": [
       "                                                    0      1       2\n",
       "Equipment_Dam                                       1      1       2\n",
       "CURE END POSITION X Collect Result_Dam          240.0  240.0  1000.0\n",
       "CURE END POSITION Z Collect Result_Dam            2.5    2.5    12.5\n",
       "CURE END POSITION Θ Collect Result_Dam            -90    -90      90\n",
       "CURE SPEED Collect Result_Dam                     100     70      85\n",
       "...                                               ...    ...     ...\n",
       "Stage3 Line4 Distance Speed Collect Result_Dam   5800   4000    5800\n",
       "THICKNESS 1 Collect Result_Dam                   5800      0    5800\n",
       "THICKNESS 2 Collect Result_Dam                    0.0    0.0   0.012\n",
       "THICKNESS 3 Collect Result_Dam                    0.0    0.0  -0.022\n",
       "WorkMode Collect Result_Dam                       0.0    7.0   0.003\n",
       "\n",
       "[70 rows x 3 columns]"
      ]
     },
     "execution_count": 72,
     "metadata": {},
     "output_type": "execute_result"
    }
   ],
   "source": [
    "df_dam = df[grouped_columns[\"Dam\"]]\n",
    "df_dam.head(3).T"
   ]
  },
  {
   "cell_type": "code",
   "execution_count": 73,
   "metadata": {},
   "outputs": [
    {
     "name": "stdout",
     "output_type": "stream",
     "text": [
      "<class 'pandas.core.frame.DataFrame'>\n",
      "Int64Index: 38408 entries, 0 to 40505\n",
      "Data columns (total 70 columns):\n",
      " #   Column                                                    Non-Null Count  Dtype  \n",
      "---  ------                                                    --------------  -----  \n",
      " 0   Equipment_Dam                                             38408 non-null  object \n",
      " 1   CURE END POSITION X Collect Result_Dam                    38408 non-null  float64\n",
      " 2   CURE END POSITION Z Collect Result_Dam                    38408 non-null  float64\n",
      " 3   CURE END POSITION Θ Collect Result_Dam                    38408 non-null  int64  \n",
      " 4   CURE SPEED Collect Result_Dam                             38408 non-null  int64  \n",
      " 5   CURE STANDBY POSITION X Collect Result_Dam                38408 non-null  int64  \n",
      " 6   CURE STANDBY POSITION Z Collect Result_Dam                38408 non-null  float64\n",
      " 7   CURE STANDBY POSITION Θ Collect Result_Dam                38408 non-null  int64  \n",
      " 8   CURE START POSITION X Collect Result_Dam                  38408 non-null  int64  \n",
      " 9   CURE START POSITION Z Collect Result_Dam                  38408 non-null  float64\n",
      " 10  CURE START POSITION Θ Collect Result_Dam                  38408 non-null  int64  \n",
      " 11  DISCHARGED SPEED OF RESIN Collect Result_Dam              38408 non-null  int64  \n",
      " 12  DISCHARGED TIME OF RESIN(Stage1) Collect Result_Dam       38408 non-null  float64\n",
      " 13  DISCHARGED TIME OF RESIN(Stage2) Collect Result_Dam       38408 non-null  float64\n",
      " 14  DISCHARGED TIME OF RESIN(Stage3) Collect Result_Dam       38408 non-null  float64\n",
      " 15  Dispense Volume(Stage1) Collect Result_Dam                38408 non-null  float64\n",
      " 16  Dispense Volume(Stage2) Collect Result_Dam                38408 non-null  float64\n",
      " 17  Dispense Volume(Stage3) Collect Result_Dam                38408 non-null  float64\n",
      " 18  HEAD NORMAL COORDINATE X AXIS(Stage2) Collect Result_Dam  38408 non-null  float64\n",
      " 19  HEAD NORMAL COORDINATE X AXIS(Stage3) Collect Result_Dam  38408 non-null  float64\n",
      " 20  HEAD NORMAL COORDINATE Y AXIS(Stage1) Collect Result_Dam  38408 non-null  float64\n",
      " 21  HEAD NORMAL COORDINATE Y AXIS(Stage2) Collect Result_Dam  38408 non-null  float64\n",
      " 22  HEAD NORMAL COORDINATE Y AXIS(Stage3) Collect Result_Dam  38408 non-null  float64\n",
      " 23  HEAD NORMAL COORDINATE Z AXIS(Stage1) Collect Result_Dam  38408 non-null  float64\n",
      " 24  HEAD NORMAL COORDINATE Z AXIS(Stage2) Collect Result_Dam  38408 non-null  float64\n",
      " 25  HEAD NORMAL COORDINATE Z AXIS(Stage3) Collect Result_Dam  38408 non-null  float64\n",
      " 26  HEAD Standby Position X Collect Result_Dam                38408 non-null  float64\n",
      " 27  HEAD Standby Position Y Collect Result_Dam                38408 non-null  int64  \n",
      " 28  HEAD Standby Position Z Collect Result_Dam                38408 non-null  int64  \n",
      " 29  Head Clean Position X Collect Result_Dam                  38408 non-null  float64\n",
      " 30  Head Clean Position Y Collect Result_Dam                  38408 non-null  float64\n",
      " 31  Head Clean Position Z Collect Result_Dam                  38408 non-null  float64\n",
      " 32  Head Purge Position X Collect Result_Dam                  38408 non-null  float64\n",
      " 33  Head Purge Position Y Collect Result_Dam                  38408 non-null  int64  \n",
      " 34  Head Purge Position Z Collect Result_Dam                  38408 non-null  float64\n",
      " 35  Head Zero Position X Collect Result_Dam                   38408 non-null  float64\n",
      " 36  Head Zero Position Y Collect Result_Dam                   38408 non-null  float64\n",
      " 37  Head Zero Position Z Collect Result_Dam                   38408 non-null  float64\n",
      " 38  Machine Tact time Collect Result_Dam                      38408 non-null  float64\n",
      " 39  PalletID Collect Result_Dam                               38408 non-null  float64\n",
      " 40  Production Qty Collect Result_Dam                         38408 non-null  int64  \n",
      " 41  Receip No Collect Result_Dam                              38408 non-null  int64  \n",
      " 42  Stage1 Circle1 Distance Speed Collect Result_Dam          38408 non-null  int64  \n",
      " 43  Stage1 Circle2 Distance Speed Collect Result_Dam          38408 non-null  int64  \n",
      " 44  Stage1 Circle3 Distance Speed Collect Result_Dam          38408 non-null  int64  \n",
      " 45  Stage1 Circle4 Distance Speed Collect Result_Dam          38408 non-null  int64  \n",
      " 46  Stage1 Line1 Distance Speed Collect Result_Dam            38408 non-null  int64  \n",
      " 47  Stage1 Line2 Distance Speed Collect Result_Dam            38408 non-null  int64  \n",
      " 48  Stage1 Line3 Distance Speed Collect Result_Dam            38408 non-null  int64  \n",
      " 49  Stage1 Line4 Distance Speed Collect Result_Dam            38408 non-null  int64  \n",
      " 50  Stage2 Circle1 Distance Speed Collect Result_Dam          38408 non-null  int64  \n",
      " 51  Stage2 Circle2 Distance Speed Collect Result_Dam          38408 non-null  int64  \n",
      " 52  Stage2 Circle3 Distance Speed Collect Result_Dam          38408 non-null  int64  \n",
      " 53  Stage2 Circle4 Distance Speed Collect Result_Dam          38408 non-null  int64  \n",
      " 54  Stage2 Line1 Distance Speed Collect Result_Dam            38408 non-null  int64  \n",
      " 55  Stage2 Line2 Distance Speed Collect Result_Dam            38408 non-null  int64  \n",
      " 56  Stage2 Line3 Distance Speed Collect Result_Dam            38408 non-null  int64  \n",
      " 57  Stage2 Line4 Distance Speed Collect Result_Dam            38408 non-null  int64  \n",
      " 58  Stage3 Circle1 Distance Speed Collect Result_Dam          38408 non-null  int64  \n",
      " 59  Stage3 Circle2 Distance Speed Collect Result_Dam          38408 non-null  int64  \n",
      " 60  Stage3 Circle3 Distance Speed Collect Result_Dam          38408 non-null  int64  \n",
      " 61  Stage3 Circle4 Distance Speed Collect Result_Dam          38408 non-null  int64  \n",
      " 62  Stage3 Line1 Distance Speed Collect Result_Dam            38408 non-null  int64  \n",
      " 63  Stage3 Line2 Distance Speed Collect Result_Dam            38408 non-null  int64  \n",
      " 64  Stage3 Line3 Distance Speed Collect Result_Dam            38408 non-null  int64  \n",
      " 65  Stage3 Line4 Distance Speed Collect Result_Dam            38408 non-null  int64  \n",
      " 66  THICKNESS 1 Collect Result_Dam                            38408 non-null  int64  \n",
      " 67  THICKNESS 2 Collect Result_Dam                            38408 non-null  float64\n",
      " 68  THICKNESS 3 Collect Result_Dam                            38408 non-null  float64\n",
      " 69  WorkMode Collect Result_Dam                               38408 non-null  float64\n",
      "dtypes: float64(32), int64(37), object(1)\n",
      "memory usage: 21.8+ MB\n"
     ]
    }
   ],
   "source": [
    "df_dam.info()"
   ]
  },
  {
   "cell_type": "code",
   "execution_count": 75,
   "metadata": {},
   "outputs": [
    {
     "data": {
      "text/html": [
       "<div>\n",
       "<style scoped>\n",
       "    .dataframe tbody tr th:only-of-type {\n",
       "        vertical-align: middle;\n",
       "    }\n",
       "\n",
       "    .dataframe tbody tr th {\n",
       "        vertical-align: top;\n",
       "    }\n",
       "\n",
       "    .dataframe thead th {\n",
       "        text-align: right;\n",
       "    }\n",
       "</style>\n",
       "<table border=\"1\" class=\"dataframe\">\n",
       "  <thead>\n",
       "    <tr style=\"text-align: right;\">\n",
       "      <th></th>\n",
       "      <th>CURE END POSITION X Collect Result_Dam</th>\n",
       "      <th>CURE END POSITION Z Collect Result_Dam</th>\n",
       "      <th>CURE END POSITION Θ Collect Result_Dam</th>\n",
       "      <th>CURE SPEED Collect Result_Dam</th>\n",
       "      <th>CURE STANDBY POSITION X Collect Result_Dam</th>\n",
       "      <th>CURE STANDBY POSITION Z Collect Result_Dam</th>\n",
       "      <th>CURE STANDBY POSITION Θ Collect Result_Dam</th>\n",
       "      <th>CURE START POSITION X Collect Result_Dam</th>\n",
       "      <th>CURE START POSITION Z Collect Result_Dam</th>\n",
       "      <th>CURE START POSITION Θ Collect Result_Dam</th>\n",
       "      <th>...</th>\n",
       "      <th>Stage3 Circle3 Distance Speed Collect Result_Dam</th>\n",
       "      <th>Stage3 Circle4 Distance Speed Collect Result_Dam</th>\n",
       "      <th>Stage3 Line1 Distance Speed Collect Result_Dam</th>\n",
       "      <th>Stage3 Line2 Distance Speed Collect Result_Dam</th>\n",
       "      <th>Stage3 Line3 Distance Speed Collect Result_Dam</th>\n",
       "      <th>Stage3 Line4 Distance Speed Collect Result_Dam</th>\n",
       "      <th>THICKNESS 1 Collect Result_Dam</th>\n",
       "      <th>THICKNESS 2 Collect Result_Dam</th>\n",
       "      <th>THICKNESS 3 Collect Result_Dam</th>\n",
       "      <th>WorkMode Collect Result_Dam</th>\n",
       "    </tr>\n",
       "  </thead>\n",
       "  <tbody>\n",
       "    <tr>\n",
       "      <th>count</th>\n",
       "      <td>38408.000000</td>\n",
       "      <td>38408.000000</td>\n",
       "      <td>38408.000000</td>\n",
       "      <td>38408.000000</td>\n",
       "      <td>38408.0</td>\n",
       "      <td>38408.0</td>\n",
       "      <td>38408.0</td>\n",
       "      <td>38408.000000</td>\n",
       "      <td>38408.0</td>\n",
       "      <td>38408.000000</td>\n",
       "      <td>...</td>\n",
       "      <td>38408.000000</td>\n",
       "      <td>38408.000000</td>\n",
       "      <td>38408.000000</td>\n",
       "      <td>38408.000000</td>\n",
       "      <td>38408.000000</td>\n",
       "      <td>38408.000000</td>\n",
       "      <td>38408.000000</td>\n",
       "      <td>38408.000000</td>\n",
       "      <td>38408.000000</td>\n",
       "      <td>38408.000000</td>\n",
       "    </tr>\n",
       "    <tr>\n",
       "      <th>mean</th>\n",
       "      <td>529.590710</td>\n",
       "      <td>6.310404</td>\n",
       "      <td>-21.412727</td>\n",
       "      <td>73.993569</td>\n",
       "      <td>1150.0</td>\n",
       "      <td>33.5</td>\n",
       "      <td>0.0</td>\n",
       "      <td>744.219694</td>\n",
       "      <td>33.5</td>\n",
       "      <td>-21.412727</td>\n",
       "      <td>...</td>\n",
       "      <td>6434.219433</td>\n",
       "      <td>6434.219433</td>\n",
       "      <td>6428.855968</td>\n",
       "      <td>6432.201625</td>\n",
       "      <td>6428.855968</td>\n",
       "      <td>6431.029994</td>\n",
       "      <td>3368.582066</td>\n",
       "      <td>-0.000941</td>\n",
       "      <td>-0.004812</td>\n",
       "      <td>2.931988</td>\n",
       "    </tr>\n",
       "    <tr>\n",
       "      <th>std</th>\n",
       "      <td>369.093087</td>\n",
       "      <td>4.856488</td>\n",
       "      <td>87.416784</td>\n",
       "      <td>9.947818</td>\n",
       "      <td>0.0</td>\n",
       "      <td>0.0</td>\n",
       "      <td>0.0</td>\n",
       "      <td>364.236600</td>\n",
       "      <td>0.0</td>\n",
       "      <td>87.416784</td>\n",
       "      <td>...</td>\n",
       "      <td>1710.773675</td>\n",
       "      <td>1710.773675</td>\n",
       "      <td>1705.849155</td>\n",
       "      <td>1710.989759</td>\n",
       "      <td>1705.849155</td>\n",
       "      <td>1711.114122</td>\n",
       "      <td>2956.596737</td>\n",
       "      <td>0.007038</td>\n",
       "      <td>0.020640</td>\n",
       "      <td>3.459015</td>\n",
       "    </tr>\n",
       "    <tr>\n",
       "      <th>min</th>\n",
       "      <td>240.000000</td>\n",
       "      <td>2.500000</td>\n",
       "      <td>-90.000000</td>\n",
       "      <td>70.000000</td>\n",
       "      <td>1150.0</td>\n",
       "      <td>33.5</td>\n",
       "      <td>0.0</td>\n",
       "      <td>280.000000</td>\n",
       "      <td>33.5</td>\n",
       "      <td>-90.000000</td>\n",
       "      <td>...</td>\n",
       "      <td>4000.000000</td>\n",
       "      <td>4000.000000</td>\n",
       "      <td>4000.000000</td>\n",
       "      <td>4000.000000</td>\n",
       "      <td>4000.000000</td>\n",
       "      <td>4000.000000</td>\n",
       "      <td>0.000000</td>\n",
       "      <td>-0.054000</td>\n",
       "      <td>-0.219000</td>\n",
       "      <td>-0.118000</td>\n",
       "    </tr>\n",
       "    <tr>\n",
       "      <th>25%</th>\n",
       "      <td>240.000000</td>\n",
       "      <td>2.500000</td>\n",
       "      <td>-90.000000</td>\n",
       "      <td>70.000000</td>\n",
       "      <td>1150.0</td>\n",
       "      <td>33.5</td>\n",
       "      <td>0.0</td>\n",
       "      <td>280.000000</td>\n",
       "      <td>33.5</td>\n",
       "      <td>-90.000000</td>\n",
       "      <td>...</td>\n",
       "      <td>5000.000000</td>\n",
       "      <td>5000.000000</td>\n",
       "      <td>5000.000000</td>\n",
       "      <td>5000.000000</td>\n",
       "      <td>5000.000000</td>\n",
       "      <td>5000.000000</td>\n",
       "      <td>0.000000</td>\n",
       "      <td>0.000000</td>\n",
       "      <td>0.000000</td>\n",
       "      <td>0.000000</td>\n",
       "    </tr>\n",
       "    <tr>\n",
       "      <th>50%</th>\n",
       "      <td>240.000000</td>\n",
       "      <td>2.500000</td>\n",
       "      <td>-90.000000</td>\n",
       "      <td>70.000000</td>\n",
       "      <td>1150.0</td>\n",
       "      <td>33.5</td>\n",
       "      <td>0.0</td>\n",
       "      <td>1030.000000</td>\n",
       "      <td>33.5</td>\n",
       "      <td>-90.000000</td>\n",
       "      <td>...</td>\n",
       "      <td>6500.000000</td>\n",
       "      <td>6500.000000</td>\n",
       "      <td>6500.000000</td>\n",
       "      <td>6500.000000</td>\n",
       "      <td>6500.000000</td>\n",
       "      <td>6500.000000</td>\n",
       "      <td>4000.000000</td>\n",
       "      <td>0.000000</td>\n",
       "      <td>0.000000</td>\n",
       "      <td>0.000000</td>\n",
       "    </tr>\n",
       "    <tr>\n",
       "      <th>75%</th>\n",
       "      <td>1000.000000</td>\n",
       "      <td>12.500000</td>\n",
       "      <td>90.000000</td>\n",
       "      <td>70.000000</td>\n",
       "      <td>1150.0</td>\n",
       "      <td>33.5</td>\n",
       "      <td>0.0</td>\n",
       "      <td>1030.000000</td>\n",
       "      <td>33.5</td>\n",
       "      <td>90.000000</td>\n",
       "      <td>...</td>\n",
       "      <td>9000.000000</td>\n",
       "      <td>9000.000000</td>\n",
       "      <td>7000.000000</td>\n",
       "      <td>9000.000000</td>\n",
       "      <td>7000.000000</td>\n",
       "      <td>9000.000000</td>\n",
       "      <td>6500.000000</td>\n",
       "      <td>0.000000</td>\n",
       "      <td>0.000000</td>\n",
       "      <td>7.000000</td>\n",
       "    </tr>\n",
       "    <tr>\n",
       "      <th>max</th>\n",
       "      <td>1000.000000</td>\n",
       "      <td>12.500000</td>\n",
       "      <td>90.000000</td>\n",
       "      <td>105.000000</td>\n",
       "      <td>1150.0</td>\n",
       "      <td>33.5</td>\n",
       "      <td>0.0</td>\n",
       "      <td>1030.000000</td>\n",
       "      <td>33.5</td>\n",
       "      <td>90.000000</td>\n",
       "      <td>...</td>\n",
       "      <td>9000.000000</td>\n",
       "      <td>9000.000000</td>\n",
       "      <td>9000.000000</td>\n",
       "      <td>9000.000000</td>\n",
       "      <td>9000.000000</td>\n",
       "      <td>9000.000000</td>\n",
       "      <td>6500.000000</td>\n",
       "      <td>0.037000</td>\n",
       "      <td>0.007000</td>\n",
       "      <td>7.000000</td>\n",
       "    </tr>\n",
       "  </tbody>\n",
       "</table>\n",
       "<p>8 rows × 69 columns</p>\n",
       "</div>"
      ],
      "text/plain": [
       "       CURE END POSITION X Collect Result_Dam  \\\n",
       "count                            38408.000000   \n",
       "mean                               529.590710   \n",
       "std                                369.093087   \n",
       "min                                240.000000   \n",
       "25%                                240.000000   \n",
       "50%                                240.000000   \n",
       "75%                               1000.000000   \n",
       "max                               1000.000000   \n",
       "\n",
       "       CURE END POSITION Z Collect Result_Dam  \\\n",
       "count                            38408.000000   \n",
       "mean                                 6.310404   \n",
       "std                                  4.856488   \n",
       "min                                  2.500000   \n",
       "25%                                  2.500000   \n",
       "50%                                  2.500000   \n",
       "75%                                 12.500000   \n",
       "max                                 12.500000   \n",
       "\n",
       "       CURE END POSITION Θ Collect Result_Dam  CURE SPEED Collect Result_Dam  \\\n",
       "count                            38408.000000                   38408.000000   \n",
       "mean                               -21.412727                      73.993569   \n",
       "std                                 87.416784                       9.947818   \n",
       "min                                -90.000000                      70.000000   \n",
       "25%                                -90.000000                      70.000000   \n",
       "50%                                -90.000000                      70.000000   \n",
       "75%                                 90.000000                      70.000000   \n",
       "max                                 90.000000                     105.000000   \n",
       "\n",
       "       CURE STANDBY POSITION X Collect Result_Dam  \\\n",
       "count                                     38408.0   \n",
       "mean                                       1150.0   \n",
       "std                                           0.0   \n",
       "min                                        1150.0   \n",
       "25%                                        1150.0   \n",
       "50%                                        1150.0   \n",
       "75%                                        1150.0   \n",
       "max                                        1150.0   \n",
       "\n",
       "       CURE STANDBY POSITION Z Collect Result_Dam  \\\n",
       "count                                     38408.0   \n",
       "mean                                         33.5   \n",
       "std                                           0.0   \n",
       "min                                          33.5   \n",
       "25%                                          33.5   \n",
       "50%                                          33.5   \n",
       "75%                                          33.5   \n",
       "max                                          33.5   \n",
       "\n",
       "       CURE STANDBY POSITION Θ Collect Result_Dam  \\\n",
       "count                                     38408.0   \n",
       "mean                                          0.0   \n",
       "std                                           0.0   \n",
       "min                                           0.0   \n",
       "25%                                           0.0   \n",
       "50%                                           0.0   \n",
       "75%                                           0.0   \n",
       "max                                           0.0   \n",
       "\n",
       "       CURE START POSITION X Collect Result_Dam  \\\n",
       "count                              38408.000000   \n",
       "mean                                 744.219694   \n",
       "std                                  364.236600   \n",
       "min                                  280.000000   \n",
       "25%                                  280.000000   \n",
       "50%                                 1030.000000   \n",
       "75%                                 1030.000000   \n",
       "max                                 1030.000000   \n",
       "\n",
       "       CURE START POSITION Z Collect Result_Dam  \\\n",
       "count                                   38408.0   \n",
       "mean                                       33.5   \n",
       "std                                         0.0   \n",
       "min                                        33.5   \n",
       "25%                                        33.5   \n",
       "50%                                        33.5   \n",
       "75%                                        33.5   \n",
       "max                                        33.5   \n",
       "\n",
       "       CURE START POSITION Θ Collect Result_Dam  ...  \\\n",
       "count                              38408.000000  ...   \n",
       "mean                                 -21.412727  ...   \n",
       "std                                   87.416784  ...   \n",
       "min                                  -90.000000  ...   \n",
       "25%                                  -90.000000  ...   \n",
       "50%                                  -90.000000  ...   \n",
       "75%                                   90.000000  ...   \n",
       "max                                   90.000000  ...   \n",
       "\n",
       "       Stage3 Circle3 Distance Speed Collect Result_Dam  \\\n",
       "count                                      38408.000000   \n",
       "mean                                        6434.219433   \n",
       "std                                         1710.773675   \n",
       "min                                         4000.000000   \n",
       "25%                                         5000.000000   \n",
       "50%                                         6500.000000   \n",
       "75%                                         9000.000000   \n",
       "max                                         9000.000000   \n",
       "\n",
       "       Stage3 Circle4 Distance Speed Collect Result_Dam  \\\n",
       "count                                      38408.000000   \n",
       "mean                                        6434.219433   \n",
       "std                                         1710.773675   \n",
       "min                                         4000.000000   \n",
       "25%                                         5000.000000   \n",
       "50%                                         6500.000000   \n",
       "75%                                         9000.000000   \n",
       "max                                         9000.000000   \n",
       "\n",
       "       Stage3 Line1 Distance Speed Collect Result_Dam  \\\n",
       "count                                    38408.000000   \n",
       "mean                                      6428.855968   \n",
       "std                                       1705.849155   \n",
       "min                                       4000.000000   \n",
       "25%                                       5000.000000   \n",
       "50%                                       6500.000000   \n",
       "75%                                       7000.000000   \n",
       "max                                       9000.000000   \n",
       "\n",
       "       Stage3 Line2 Distance Speed Collect Result_Dam  \\\n",
       "count                                    38408.000000   \n",
       "mean                                      6432.201625   \n",
       "std                                       1710.989759   \n",
       "min                                       4000.000000   \n",
       "25%                                       5000.000000   \n",
       "50%                                       6500.000000   \n",
       "75%                                       9000.000000   \n",
       "max                                       9000.000000   \n",
       "\n",
       "       Stage3 Line3 Distance Speed Collect Result_Dam  \\\n",
       "count                                    38408.000000   \n",
       "mean                                      6428.855968   \n",
       "std                                       1705.849155   \n",
       "min                                       4000.000000   \n",
       "25%                                       5000.000000   \n",
       "50%                                       6500.000000   \n",
       "75%                                       7000.000000   \n",
       "max                                       9000.000000   \n",
       "\n",
       "       Stage3 Line4 Distance Speed Collect Result_Dam  \\\n",
       "count                                    38408.000000   \n",
       "mean                                      6431.029994   \n",
       "std                                       1711.114122   \n",
       "min                                       4000.000000   \n",
       "25%                                       5000.000000   \n",
       "50%                                       6500.000000   \n",
       "75%                                       9000.000000   \n",
       "max                                       9000.000000   \n",
       "\n",
       "       THICKNESS 1 Collect Result_Dam  THICKNESS 2 Collect Result_Dam  \\\n",
       "count                    38408.000000                    38408.000000   \n",
       "mean                      3368.582066                       -0.000941   \n",
       "std                       2956.596737                        0.007038   \n",
       "min                          0.000000                       -0.054000   \n",
       "25%                          0.000000                        0.000000   \n",
       "50%                       4000.000000                        0.000000   \n",
       "75%                       6500.000000                        0.000000   \n",
       "max                       6500.000000                        0.037000   \n",
       "\n",
       "       THICKNESS 3 Collect Result_Dam  WorkMode Collect Result_Dam  \n",
       "count                    38408.000000                 38408.000000  \n",
       "mean                        -0.004812                     2.931988  \n",
       "std                          0.020640                     3.459015  \n",
       "min                         -0.219000                    -0.118000  \n",
       "25%                          0.000000                     0.000000  \n",
       "50%                          0.000000                     0.000000  \n",
       "75%                          0.000000                     7.000000  \n",
       "max                          0.007000                     7.000000  \n",
       "\n",
       "[8 rows x 69 columns]"
      ]
     },
     "execution_count": 75,
     "metadata": {},
     "output_type": "execute_result"
    }
   ],
   "source": [
    "df_dam.describe()"
   ]
  },
  {
   "cell_type": "code",
   "execution_count": null,
   "metadata": {},
   "outputs": [],
   "source": [
    "df[\"Dispense Volume(Stage1) Collect Result_Dam\"].plot.hist()"
   ]
  },
  {
   "cell_type": "code",
   "execution_count": null,
   "metadata": {},
   "outputs": [],
   "source": []
  },
  {
   "cell_type": "code",
   "execution_count": null,
   "metadata": {},
   "outputs": [],
   "source": [
    "df[\"DISCHARGED TIME OF RESIN(Stage1) Collect Result_Dam\"].plot.hist()"
   ]
  },
  {
   "cell_type": "code",
   "execution_count": null,
   "metadata": {},
   "outputs": [],
   "source": [
    "tmp = df[[\"DISCHARGED TIME OF RESIN(Stage1) Collect Result_Dam\", \"DISCHARGED TIME OF RESIN(Stage2) Collect Result_Dam\", \"DISCHARGED TIME OF RESIN(Stage3) Collect Result_Dam\"]]"
   ]
  },
  {
   "cell_type": "code",
   "execution_count": null,
   "metadata": {},
   "outputs": [],
   "source": [
    "tmp.values.tolist()"
   ]
  },
  {
   "cell_type": "code",
   "execution_count": null,
   "metadata": {},
   "outputs": [],
   "source": [
    "tmp = df['CURE START POSITION X Collect Result_Dam'] - df['CURE END POSITION X Collect Result_Dam']\n",
    "tmp = pd.DataFrame(tmp)"
   ]
  },
  {
   "cell_type": "code",
   "execution_count": null,
   "metadata": {},
   "outputs": [],
   "source": [
    "tmp.value_counts()"
   ]
  },
  {
   "cell_type": "code",
   "execution_count": null,
   "metadata": {},
   "outputs": [],
   "source": [
    "ttmp = tmp.apply(func=\"mean\", axis=1)\n",
    "ttmp = pd.DataFrame(ttmp)"
   ]
  },
  {
   "cell_type": "code",
   "execution_count": null,
   "metadata": {},
   "outputs": [],
   "source": [
    "ttmp.plot.hist()"
   ]
  },
  {
   "cell_type": "code",
   "execution_count": null,
   "metadata": {},
   "outputs": [],
   "source": [
    "df[[\"DISCHARGED TIME OF RESIN(Stage1) Collect Result_Dam\", \"target\"]].groupby(\"target\").count()"
   ]
  },
  {
   "cell_type": "code",
   "execution_count": null,
   "metadata": {},
   "outputs": [],
   "source": [
    "df[\"DISCHARGED SPEED OF RESIN Collect Result_Dam\"].value_counts()"
   ]
  },
  {
   "cell_type": "code",
   "execution_count": null,
   "metadata": {},
   "outputs": [],
   "source": [
    "df[[\"DISCHARGED SPEED OF RESIN Collect Result_Dam\", \"target\"]].groupby(\"target\").value_counts()\n",
    "# 10은 0.066로 abnormal (1406/21046)\n",
    "# 16은 0.048로 abnormal (943/19456)\n",
    "# 15은 0.25로 abnormal (1/4) (전체가 4개밖에 없어서 비율이 높은 듯)"
   ]
  },
  {
   "cell_type": "code",
   "execution_count": null,
   "metadata": {},
   "outputs": [],
   "source": [
    "df[\"CURE START POSITION Θ Collect Result_Dam\"].equals(df[\"CURE END POSITION Θ Collect Result_Dam\"])"
   ]
  },
  {
   "cell_type": "code",
   "execution_count": null,
   "metadata": {},
   "outputs": [],
   "source": [
    "df[\"CURE SPEED Collect Result_Dam\"].plot.hist();"
   ]
  },
  {
   "cell_type": "code",
   "execution_count": null,
   "metadata": {},
   "outputs": [],
   "source": [
    "from sklearn.preprocessing import KBinsDiscretizer\n",
    "kbd = KBinsDiscretizer(n_bins=10, encode='ordinal', strategy='kmeans')"
   ]
  },
  {
   "cell_type": "code",
   "execution_count": null,
   "metadata": {},
   "outputs": [],
   "source": [
    "df[\"CURE SPEED Collect Result_Dam\"].values.reshape(-1, 1)"
   ]
  },
  {
   "cell_type": "code",
   "execution_count": null,
   "metadata": {},
   "outputs": [],
   "source": [
    "t = kbd.fit_transform(df[\"CURE SPEED Collect Result_Dam\"].values.reshape(-1, 1))"
   ]
  },
  {
   "cell_type": "code",
   "execution_count": null,
   "metadata": {},
   "outputs": [],
   "source": [
    "t"
   ]
  },
  {
   "cell_type": "code",
   "execution_count": null,
   "metadata": {},
   "outputs": [],
   "source": [
    "kbd.bin_edges_"
   ]
  },
  {
   "cell_type": "code",
   "execution_count": null,
   "metadata": {},
   "outputs": [],
   "source": [
    "df[\"CURE END POSITION X Collect Result_Dam\"].plot.hist()"
   ]
  },
  {
   "cell_type": "code",
   "execution_count": null,
   "metadata": {},
   "outputs": [],
   "source": []
  }
 ],
 "metadata": {
  "kernelspec": {
   "display_name": "Python 3",
   "language": "python",
   "name": "python3"
  },
  "language_info": {
   "codemirror_mode": {
    "name": "ipython",
    "version": 3
   },
   "file_extension": ".py",
   "mimetype": "text/x-python",
   "name": "python",
   "nbconvert_exporter": "python",
   "pygments_lexer": "ipython3",
   "version": "3.10.1"
  }
 },
 "nbformat": 4,
 "nbformat_minor": 2
}
