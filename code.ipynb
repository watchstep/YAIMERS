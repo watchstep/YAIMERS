{
 "cells": [
  {
   "cell_type": "markdown",
   "id": "017e9265",
   "metadata": {},
   "source": [
    "# 제품 이상여부 판별 프로젝트"
   ]
  },
  {
   "cell_type": "markdown",
   "id": "acdab431",
   "metadata": {},
   "source": [
    "## 1. 데이터 불러오기"
   ]
  },
  {
   "cell_type": "markdown",
   "id": "2b8341e8",
   "metadata": {},
   "source": [
    "### 필수 라이브러리"
   ]
  },
  {
   "cell_type": "code",
   "execution_count": 4,
   "id": "a315cc58",
   "metadata": {},
   "outputs": [],
   "source": [
    "import os\n",
    "from pprint import pprint\n",
    "\n",
    "import numpy as np\n",
    "import pandas as pd\n",
    "from sklearn.ensemble import RandomForestClassifier\n",
    "from sklearn.metrics import (\n",
    "    accuracy_score,\n",
    "    classification_report,\n",
    "    confusion_matrix,\n",
    "    f1_score,\n",
    "    precision_score,\n",
    "    recall_score,\n",
    ")\n",
    "from sklearn.model_selection import train_test_split\n",
    "from tqdm import tqdm"
   ]
  },
  {
   "cell_type": "markdown",
   "id": "95bdead2",
   "metadata": {},
   "source": [
    "### 엑셀 파일을 읽는 함수\n",
    "\n",
    "읽어오는 속도가 느린 엑셀 파일을 위해 csv 파일로 변환하여 저장해 두고 사용합니다."
   ]
  },
  {
   "cell_type": "code",
   "execution_count": 5,
   "id": "7ada941e",
   "metadata": {},
   "outputs": [],
   "source": [
    "def read_excel_file(file_path: str, header: int = None) -> pd.DataFrame:\n",
    "    csv_file = file_path.replace(\".xlsx\", \".csv\")\n",
    "\n",
    "    if not os.path.exists(csv_file):\n",
    "        print(\"Converting excel to csv...\")\n",
    "        if header:\n",
    "            df = pd.read_excel(file_path, header=header)\n",
    "        else:\n",
    "            df = pd.read_excel(file_path)\n",
    "\n",
    "        df.to_csv(csv_file, index=False)\n",
    "        print(f\"  {file_path} -> {csv_file}\")\n",
    "        return df\n",
    "    else:\n",
    "        print(f\"  Reading {csv_file}\")\n",
    "        return pd.read_csv(csv_file, low_memory=False)"
   ]
  },
  {
   "cell_type": "markdown",
   "id": "4d054e30",
   "metadata": {},
   "source": [
    "### 엑셀 파일들 읽어오기"
   ]
  },
  {
   "cell_type": "code",
   "execution_count": null,
   "id": "fc0b4d80",
   "metadata": {},
   "outputs": [
    {
     "name": "stdout",
     "output_type": "stream",
     "text": [
      "Converting excel to csv...\n"
     ]
    }
   ],
   "source": [
    "ROOT_DIR = \"data\"\n",
    "RANDOM_STATE = 110\n",
    "\n",
    "X_Dam = read_excel_file(os.path.join(ROOT_DIR, \"Dam dispensing.xlsx\"), header=1)\n",
    "\n",
    "X_AutoClave = read_excel_file(\n",
    "    os.path.join(ROOT_DIR, \"Auto clave.xlsx\"), header=1\n",
    ")\n",
    "\n",
    "X_Fill1 = read_excel_file(\n",
    "    os.path.join(ROOT_DIR, \"Fill1 dispensing.xlsx\"), header=1\n",
    ")\n",
    "\n",
    "X_Fill2 = read_excel_file(\n",
    "    os.path.join(ROOT_DIR, \"Fill2 dispensing.xlsx\"), header=1\n",
    ")\n",
    "\n",
    "y = pd.read_csv(os.path.join(ROOT_DIR, \"train_y.csv\"))"
   ]
  },
  {
   "cell_type": "markdown",
   "id": "bd6ea7ab",
   "metadata": {},
   "source": [
    "### 데이터 병합\n",
    "\n",
    "x 데이터 병합"
   ]
  },
  {
   "cell_type": "code",
   "execution_count": null,
   "id": "be9af12a",
   "metadata": {},
   "outputs": [],
   "source": [
    "# Rename columns\n",
    "X_Dam.columns = [i + \" - Dam\" for i in X_Dam.columns]\n",
    "X_AutoClave.columns = [i + \" - AutoClave\" for i in X_AutoClave.columns]\n",
    "X_Fill1.columns = [i + \" - Fill1\" for i in X_Fill1.columns]\n",
    "X_Fill2.columns = [i + \" - Fill2\" for i in X_Fill2.columns]\n",
    "X_Dam = X_Dam.rename(columns={\"Set ID - Dam\": \"Set ID\"})\n",
    "X_AutoClave = X_AutoClave.rename(columns={\"Set ID - AutoClave\": \"Set ID\"})\n",
    "X_Fill1 = X_Fill1.rename(columns={\"Set ID - Fill1\": \"Set ID\"})\n",
    "X_Fill2 = X_Fill2.rename(columns={\"Set ID - Fill2\": \"Set ID\"})\n",
    "\n",
    "# Merge X\n",
    "X = pd.merge(X_Dam, X_AutoClave, on=\"Set ID\")\n",
    "X = pd.merge(X, X_Fill1, on=\"Set ID\")\n",
    "X = pd.merge(X, X_Fill2, on=\"Set ID\")\n",
    "X = X.drop(X[X.duplicated(subset=\"Set ID\")].index).reset_index(drop=True)\n",
    "X"
   ]
  },
  {
   "cell_type": "markdown",
   "id": "b660d0d4",
   "metadata": {},
   "source": [
    "x 데이터와 y 데이터 병합"
   ]
  },
  {
   "cell_type": "code",
   "execution_count": null,
   "id": "ad9fb0fc",
   "metadata": {},
   "outputs": [],
   "source": [
    "# Merge X and y\n",
    "df_merged = pd.merge(X, y, \"inner\", on=\"Set ID\")\n",
    "\n",
    "# Drop columns with more than half of the values missing\n",
    "drop_cols = []\n",
    "for column in df_merged.columns:\n",
    "    if (df_merged[column].notnull().sum() // 2) < df_merged[\n",
    "        column\n",
    "    ].isnull().sum():\n",
    "        drop_cols.append(column)\n",
    "df_merged = df_merged.drop(drop_cols, axis=1)\n",
    "\n",
    "# Drop Lot ID\n",
    "df_merged = df_merged.drop(\"LOT ID - Dam\", axis=1)\n",
    "df_merged"
   ]
  },
  {
   "cell_type": "markdown",
   "id": "6118ae22",
   "metadata": {},
   "source": [
    "### 언더 샘플링"
   ]
  },
  {
   "cell_type": "markdown",
   "id": "97966549",
   "metadata": {},
   "source": [
    "데이타 불균형을 해결하기 위해 언더 샘플링을 진행합니다."
   ]
  },
  {
   "cell_type": "code",
   "execution_count": null,
   "id": "be3d675d",
   "metadata": {},
   "outputs": [],
   "source": [
    "normal_ratio = 1.0  # 1.0 means 1:1 ratio\n",
    "\n",
    "df_normal = df_merged[df_merged[\"target\"] == \"Normal\"]\n",
    "df_abnormal = df_merged[df_merged[\"target\"] == \"AbNormal\"]\n",
    "\n",
    "num_normal = len(df_normal)\n",
    "num_abnormal = len(df_abnormal)\n",
    "print(f\"  Total: Normal: {num_normal}, AbNormal: {num_abnormal}\")\n",
    "\n",
    "df_normal = df_normal.sample(\n",
    "    n=int(num_abnormal * normal_ratio), replace=False, random_state=RANDOM_STATE\n",
    ")\n",
    "df_concat = pd.concat([df_normal, df_abnormal], axis=0).reset_index(drop=True)\n",
    "df_concat.value_counts(\"target\")"
   ]
  },
  {
   "cell_type": "markdown",
   "id": "ebeaabc1",
   "metadata": {},
   "source": [
    "### 데이터 분할"
   ]
  },
  {
   "cell_type": "code",
   "execution_count": 1,
   "id": "d01194fd",
   "metadata": {},
   "outputs": [
    {
     "ename": "NameError",
     "evalue": "name 'df_concat' is not defined",
     "output_type": "error",
     "traceback": [
      "\u001b[0;31m---------------------------------------------------------------------------\u001b[0m",
      "\u001b[0;31mNameError\u001b[0m                                 Traceback (most recent call last)",
      "Cell \u001b[0;32mIn[1], line 1\u001b[0m\n\u001b[0;32m----> 1\u001b[0m df_concat \u001b[38;5;241m=\u001b[39m \u001b[43mdf_concat\u001b[49m\u001b[38;5;241m.\u001b[39msort_values(by\u001b[38;5;241m=\u001b[39m[\u001b[38;5;124m\"\u001b[39m\u001b[38;5;124mCollect Date - Dam\u001b[39m\u001b[38;5;124m\"\u001b[39m])\n\u001b[1;32m      2\u001b[0m df_train, df_val \u001b[38;5;241m=\u001b[39m train_test_split(\n\u001b[1;32m      3\u001b[0m     df_concat,\n\u001b[1;32m      4\u001b[0m     test_size\u001b[38;5;241m=\u001b[39m\u001b[38;5;241m0.3\u001b[39m,\n\u001b[1;32m      5\u001b[0m     stratify\u001b[38;5;241m=\u001b[39mdf_concat[\u001b[38;5;124m\"\u001b[39m\u001b[38;5;124mtarget\u001b[39m\u001b[38;5;124m\"\u001b[39m],\n\u001b[1;32m      6\u001b[0m     random_state\u001b[38;5;241m=\u001b[39mRANDOM_STATE,\n\u001b[1;32m      7\u001b[0m )\n\u001b[1;32m     10\u001b[0m \u001b[38;5;28;01mdef\u001b[39;00m \u001b[38;5;21mprint_stats\u001b[39m(df: pd\u001b[38;5;241m.\u001b[39mDataFrame):\n",
      "\u001b[0;31mNameError\u001b[0m: name 'df_concat' is not defined"
     ]
    }
   ],
   "source": [
    "df_concat = df_concat.sort_values(by=[\"Collect Date - Dam\"])\n",
    "df_train, df_val = train_test_split(\n",
    "    df_concat,\n",
    "    test_size=0.3,\n",
    "    stratify=df_concat[\"target\"],\n",
    "    random_state=RANDOM_STATE,\n",
    ")\n",
    "\n",
    "\n",
    "def print_stats(df: pd.DataFrame):\n",
    "    num_normal = len(df[df[\"target\"] == \"Normal\"])\n",
    "    num_abnormal = len(df[df[\"target\"] == \"AbNormal\"])\n",
    "\n",
    "    print(\n",
    "        f\"  Total: Normal: {num_normal}, AbNormal: {num_abnormal}\"\n",
    "        + f\" ratio: {num_abnormal/num_normal}\"\n",
    "    )\n",
    "\n",
    "\n",
    "# Print statistics\n",
    "print(f\"  \\tAbnormal\\tNormal\")\n",
    "print_stats(df_train)\n",
    "print_stats(df_val)"
   ]
  },
  {
   "cell_type": "markdown",
   "id": "79ecfa9b",
   "metadata": {},
   "source": [
    "## 3. 모델 학습"
   ]
  },
  {
   "cell_type": "markdown",
   "id": "3caf257b",
   "metadata": {},
   "source": [
    "### 모델 정의 "
   ]
  },
  {
   "cell_type": "code",
   "execution_count": 2,
   "id": "e4509af0",
   "metadata": {},
   "outputs": [
    {
     "ename": "NameError",
     "evalue": "name 'RandomForestClassifier' is not defined",
     "output_type": "error",
     "traceback": [
      "\u001b[0;31m---------------------------------------------------------------------------\u001b[0m",
      "\u001b[0;31mNameError\u001b[0m                                 Traceback (most recent call last)",
      "Cell \u001b[0;32mIn[2], line 1\u001b[0m\n\u001b[0;32m----> 1\u001b[0m model \u001b[38;5;241m=\u001b[39m \u001b[43mRandomForestClassifier\u001b[49m(random_state\u001b[38;5;241m=\u001b[39mRANDOM_STATE)\n",
      "\u001b[0;31mNameError\u001b[0m: name 'RandomForestClassifier' is not defined"
     ]
    }
   ],
   "source": [
    "model = RandomForestClassifier(random_state=RANDOM_STATE)"
   ]
  },
  {
   "cell_type": "markdown",
   "id": "cacd5ed8",
   "metadata": {},
   "source": [
    "### 모델 학습"
   ]
  },
  {
   "cell_type": "code",
   "execution_count": 3,
   "id": "766d1980",
   "metadata": {},
   "outputs": [
    {
     "ename": "NameError",
     "evalue": "name 'df_train' is not defined",
     "output_type": "error",
     "traceback": [
      "\u001b[0;31m---------------------------------------------------------------------------\u001b[0m",
      "\u001b[0;31mNameError\u001b[0m                                 Traceback (most recent call last)",
      "Cell \u001b[0;32mIn[3], line 3\u001b[0m\n\u001b[1;32m      1\u001b[0m features \u001b[38;5;241m=\u001b[39m []\n\u001b[0;32m----> 3\u001b[0m \u001b[38;5;28;01mfor\u001b[39;00m col \u001b[38;5;129;01min\u001b[39;00m \u001b[43mdf_train\u001b[49m\u001b[38;5;241m.\u001b[39mcolumns:\n\u001b[1;32m      4\u001b[0m     \u001b[38;5;28;01mtry\u001b[39;00m:\n\u001b[1;32m      5\u001b[0m         df_train[col] \u001b[38;5;241m=\u001b[39m df_train[col]\u001b[38;5;241m.\u001b[39mastype(\u001b[38;5;28mint\u001b[39m)\n",
      "\u001b[0;31mNameError\u001b[0m: name 'df_train' is not defined"
     ]
    }
   ],
   "source": [
    "features = []\n",
    "\n",
    "for col in df_train.columns:\n",
    "    try:\n",
    "        df_train[col] = df_train[col].astype(int)\n",
    "        features.append(col)\n",
    "    except:\n",
    "        continue\n",
    "\n",
    "if \"Set ID\" in features:\n",
    "    features.remove(\"Set ID\")\n",
    "\n",
    "train_x = df_train[features]\n",
    "train_y = df_train[\"target\"]\n",
    "\n",
    "model.fit(train_x, train_y)"
   ]
  },
  {
   "cell_type": "markdown",
   "id": "7adf8300",
   "metadata": {},
   "source": [
    "## 4. 제출하기"
   ]
  },
  {
   "cell_type": "markdown",
   "id": "9d0b6e17",
   "metadata": {},
   "source": [
    "### 테스트 데이터 예측"
   ]
  },
  {
   "cell_type": "markdown",
   "id": "cda16350",
   "metadata": {},
   "source": [
    "테스트 데이터 불러오기"
   ]
  },
  {
   "cell_type": "code",
   "execution_count": null,
   "id": "88e37a88",
   "metadata": {},
   "outputs": [],
   "source": [
    "df_test_y = pd.read_csv(os.path.join(\"submission.csv\"))"
   ]
  },
  {
   "cell_type": "code",
   "execution_count": null,
   "id": "a1eb2e59",
   "metadata": {},
   "outputs": [],
   "source": [
    "df_test = pd.merge(X, df_test_y, \"inner\", on=\"Set ID\")\n",
    "df_test_x = df_test[features]\n",
    "\n",
    "for col in df_test_x.columns:\n",
    "    try:\n",
    "        df_test_x.loc[:, col] = df_test_x[col].astype(int)\n",
    "    except:\n",
    "        continue"
   ]
  },
  {
   "cell_type": "code",
   "execution_count": null,
   "id": "d13f7a6e",
   "metadata": {},
   "outputs": [],
   "source": [
    "test_pred = model.predict(df_test_x)\n",
    "test_pred"
   ]
  },
  {
   "cell_type": "markdown",
   "id": "47f18e6a",
   "metadata": {},
   "source": [
    "### 제출 파일 작성"
   ]
  },
  {
   "cell_type": "code",
   "execution_count": null,
   "id": "3128a458",
   "metadata": {},
   "outputs": [],
   "source": [
    "# 제출 데이터 읽어오기 (df_test는 전처리된 데이터가 저장됨)\n",
    "df_sub = pd.read_csv(\"submission.csv\")\n",
    "df_sub[\"target\"] = test_pred\n",
    "\n",
    "# 제출 파일 저장\n",
    "df_sub.to_csv(\"submission.csv\", index=False)"
   ]
  },
  {
   "cell_type": "markdown",
   "id": "ec7867ce",
   "metadata": {},
   "source": [
    "**우측 상단의 제출 버튼을 클릭해 결과를 확인하세요**"
   ]
  }
 ],
 "metadata": {
  "kernelspec": {
   "display_name": "Python 3 (ipykernel)",
   "language": "python",
   "name": "python3"
  },
  "language_info": {
   "codemirror_mode": {
    "name": "ipython",
    "version": 3
   },
   "file_extension": ".py",
   "mimetype": "text/x-python",
   "name": "python",
   "nbconvert_exporter": "python",
   "pygments_lexer": "ipython3",
   "version": "3.10.13"
  }
 },
 "nbformat": 4,
 "nbformat_minor": 5
}
