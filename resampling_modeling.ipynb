{
 "cells": [
  {
   "cell_type": "code",
   "execution_count": 13,
   "metadata": {},
   "outputs": [],
   "source": [
    "import os\n",
    "import random\n",
    "import re\n",
    "from tqdm.notebook import tqdm\n",
    "from collections import Counter\n",
    "\n",
    "import numpy as np\n",
    "import pandas as pd\n",
    "\n",
    "import category_encoders as ce\n",
    "from sklearn.preprocessing import LabelEncoder, OneHotEncoder\n",
    "from sklearn.preprocessing import StandardScaler, MinMaxScaler, PowerTransformer, QuantileTransformer\n",
    "from sklearn.compose import make_column_transformer\n",
    "from sklearn.pipeline import make_pipeline\n",
    "\n",
    "import seaborn as sns\n",
    "import matplotlib.pyplot as plt\n",
    "\n",
    "ROOT_DIR = \"./data\"\n",
    "RANDOM_SEED = 110\n",
    "\n",
    "np.random.seed(RANDOM_SEED)\n",
    "%matplotlib inline\n",
    "\n",
    "pd.options.display.max_columns = 200\n",
    "from utils import *"
   ]
  },
  {
   "cell_type": "code",
   "execution_count": 14,
   "metadata": {},
   "outputs": [],
   "source": [
    "# read csv\n",
    "df_tr = pd.read_csv(os.path.join(ROOT_DIR, \"train_v1.csv\"))\n",
    "df_te = pd.read_csv(os.path.join(ROOT_DIR, \"test_v1.csv\"))\n",
    "df_list = [df_tr, df_te]"
   ]
  },
  {
   "cell_type": "code",
   "execution_count": 15,
   "metadata": {},
   "outputs": [],
   "source": [
    "for df in df_list:\n",
    "    df.drop([\"Workorder\"], axis=1, inplace=True)"
   ]
  },
  {
   "cell_type": "markdown",
   "metadata": {},
   "source": [
    "### Scaling & Encoding"
   ]
  },
  {
   "cell_type": "code",
   "execution_count": 16,
   "metadata": {},
   "outputs": [],
   "source": [
    "cat_features = [\"Equipment_Dam\",\n",
    "                \"Equipment_Fill1\",\n",
    "                \"Equipment_Fill2\",\n",
    "                \"Model.Suffix\",\n",
    "                # \"Workorder\",\n",
    "                \"Workorder Category\",\n",
    "                \"Chamber Temp. Judge Value_AutoClave\"]\n",
    "\n",
    "# 여기서 Workorder 빼기로 함\n",
    "\n",
    "bins_features = df_tr.columns[df_tr.columns.str.contains(r\".*Bins.*\")].tolist()\n",
    "from_bins_features = [re.sub(r'\\s*Bins\\s*', '', f).strip() for f in bins_features]\n",
    "\n",
    "cat_features.extend(bins_features)"
   ]
  },
  {
   "cell_type": "code",
   "execution_count": 17,
   "metadata": {},
   "outputs": [],
   "source": [
    "for df in df_list:\n",
    "    df[cat_features] = df[cat_features].astype(\"category\")"
   ]
  },
  {
   "cell_type": "code",
   "execution_count": 18,
   "metadata": {},
   "outputs": [],
   "source": [
    "num_features = df_tr.select_dtypes(exclude=[\"category\"]).columns.to_list()\n",
    "num_features.remove(\"target\")\n",
    "\n",
    "all_features = num_features + cat_features"
   ]
  },
  {
   "cell_type": "code",
   "execution_count": 19,
   "metadata": {},
   "outputs": [],
   "source": [
    "# 우리가 파악해야하는 건 AbNormal이므로 1로 설정\n",
    "df_tr[\"target\"] = df_tr[\"target\"].map({\"Normal\": 0, \"AbNormal\": 1})\n",
    "# df_tr[\"target\"] = df_tr[\"target\"].map({0:\"Normal\", 1:\"AbNormal\"})"
   ]
  },
  {
   "cell_type": "code",
   "execution_count": 20,
   "metadata": {},
   "outputs": [],
   "source": [
    "X_tr = df_tr.drop(\"target\", axis=1)\n",
    "y_tr = df_tr[\"target\"]\n",
    "\n",
    "X_te = df_te.drop(\"Set ID\", axis=1)\n",
    "set_id = df_te[\"Set ID\"]"
   ]
  },
  {
   "cell_type": "code",
   "execution_count": 21,
   "metadata": {},
   "outputs": [],
   "source": [
    "# ct = make_column_transformer(\n",
    "#     (OneHotEncoder(handle_unknown=\"ignore\", sparse=False), cat_features),\n",
    "#     (MinMaxScaler(), num_features),\n",
    "#     remainder=\"passthrough\",\n",
    "# )\n",
    "\n",
    "le = LabelEncoder()\n",
    "\n",
    "for cat_feature in cat_features:\n",
    "    X_tr[cat_feature] = le.fit_transform(X_tr[cat_feature])\n",
    "    X_te[cat_feature] = le.transform(X_te[cat_feature])\n",
    "   \n",
    "\n",
    "mms = MinMaxScaler()\n",
    "\n",
    "X_tr[num_features] = mms.fit_transform(X_tr[num_features])\n",
    "X_te[num_features] = mms.transform(X_te[num_features])"
   ]
  },
  {
   "cell_type": "code",
   "execution_count": 22,
   "metadata": {},
   "outputs": [],
   "source": [
    "# X_tr.head()"
   ]
  },
  {
   "cell_type": "markdown",
   "metadata": {},
   "source": [
    "### Resampling"
   ]
  },
  {
   "cell_type": "code",
   "execution_count": 23,
   "metadata": {},
   "outputs": [],
   "source": [
    "# df_tr[\"target\"].value_counts().plot(kind=\"barh\");"
   ]
  },
  {
   "cell_type": "code",
   "execution_count": 24,
   "metadata": {},
   "outputs": [],
   "source": [
    "def viz_pie(df):\n",
    "    df[\"target\"].value_counts().plot.pie(labels=[\"Normal\", \"AbNormal\"], autopct=lambda x:f\"{x:.2f}%\");"
   ]
  },
  {
   "cell_type": "code",
   "execution_count": 25,
   "metadata": {},
   "outputs": [
    {
     "data": {
      "image/png": "[encoded data removed]",
      "text/plain": [
       "<Figure size 640x480 with 1 Axes>"
      ]
     },
     "metadata": {},
     "output_type": "display_data"
    }
   ],
   "source": [
    "viz_pie(df_tr)"
   ]
  },
  {
   "cell_type": "code",
   "execution_count": 26,
   "metadata": {},
   "outputs": [],
   "source": [
    "# ohe = ct.transformers_[0][1]\n",
    "# ohe_cat_features = ohe.get_feature_names_out(cat_features)\n",
    "# ohe_all_features = num_features + list(ohe_cat_features)"
   ]
  },
  {
   "cell_type": "code",
   "execution_count": 27,
   "metadata": {},
   "outputs": [
    {
     "name": "stdout",
     "output_type": "stream",
     "text": [
      "DOWN SAMPLING\n",
      "=============\n",
      "Original dataset shape Counter({0: 36197, 1: 2210})\n",
      "Resampled dataset shape Counter({0: 35108, 1: 2210})\n"
     ]
    }
   ],
   "source": [
    "# downsampled_df = random_downsample(df, sample_ratio=3.0)\n",
    "downsample_options = {1:\"nearmiss\", 2:\"cluster\", 3:\"allknn\", 4:\"oneside\", 5:\"tomek\"}\n",
    "\n",
    "downsampled_df_tr = resampling.downsample(X_tr, y_tr, method=downsample_options[4], random_seed=RANDOM_SEED)"
   ]
  },
  {
   "cell_type": "code",
   "execution_count": 28,
   "metadata": {},
   "outputs": [
    {
     "data": {
      "text/plain": [
       "Index([], dtype='object')"
      ]
     },
     "execution_count": 28,
     "metadata": {},
     "output_type": "execute_result"
    }
   ],
   "source": [
    "downsampled_df_tr.columns[downsampled_df_tr.isnull().any()]"
   ]
  },
  {
   "cell_type": "code",
   "execution_count": 29,
   "metadata": {},
   "outputs": [
    {
     "data": {
      "image/png": "[encoded data removed]",
      "text/plain": [
       "<Figure size 640x480 with 1 Axes>"
      ]
     },
     "metadata": {},
     "output_type": "display_data"
    }
   ],
   "source": [
    "viz_pie(downsampled_df_tr)"
   ]
  },
  {
   "cell_type": "code",
   "execution_count": 30,
   "metadata": {},
   "outputs": [
    {
     "name": "stdout",
     "output_type": "stream",
     "text": [
      "UP SAMPLNG\n",
      "==========\n",
      "Original dataset shape Counter({0: 35108, 1: 2210})\n",
      "Resampled dataset shape Counter({1: 35342, 0: 35108})\n"
     ]
    }
   ],
   "source": [
    "cat_idx = [downsampled_df_tr.columns.get_loc(col) for col in cat_features]\n",
    "X_tr = downsampled_df_tr.drop(\"target\", axis=1)\n",
    "y_tr = downsampled_df_tr[\"target\"]\n",
    "\n",
    "upsample_options = {1: \"random\", 2:\"smote\", 3:\"adasyn\", 4:\"smotenc\", 5:\"smoten\", 6:\"borderline\", 7:\"kmeans\", 8:\"svm\"}\n",
    "\n",
    "upsampled_df_tr = resampling.upsample(X_tr, y_tr, cat_idx, method=upsample_options[3], random_seed=RANDOM_SEED)\n",
    "# Counter(upsampled_df_tr['target'])\n",
    "# upsampled_df_tr.to_csv(os.path.join(ROOT_DIR, \"oss_adasyn.csv\"))"
   ]
  },
  {
   "cell_type": "code",
   "execution_count": null,
   "metadata": {},
   "outputs": [],
   "source": [
    "upsampled_df_tr.columns[downsampled_df_tr.isnull().any()]"
   ]
  },
  {
   "cell_type": "code",
   "execution_count": null,
   "metadata": {},
   "outputs": [],
   "source": [
    "viz_pie(upsampled_df_tr)"
   ]
  },
  {
   "cell_type": "code",
   "execution_count": null,
   "metadata": {},
   "outputs": [],
   "source": [
    "upsampled_df_tr.to_csv(os.path.join(ROOT_DIR, \"le_mms_oss_adasyn.csv\"))"
   ]
  },
  {
   "cell_type": "code",
   "execution_count": null,
   "metadata": {},
   "outputs": [],
   "source": [
    "X_tr = upsampled_df_tr.drop(\"target\", axis=1)\n",
    "y_tr = upsampled_df_tr[\"target\"]\n",
    "\n",
    "# X_tr = downsampled_df_tr.drop(\"target\", axis=1)\n",
    "# y_tr = downsampled_df_tr[\"target\"]"
   ]
  },
  {
   "cell_type": "markdown",
   "metadata": {},
   "source": [
    "### Feature Selection / Classification"
   ]
  },
  {
   "cell_type": "code",
   "execution_count": null,
   "metadata": {},
   "outputs": [],
   "source": [
    "from sklearn.feature_selection import RFE, SelectFromModel, SelectKBest, f_classif, chi2\n",
    "from sklearn.model_selection import StratifiedKFold, RepeatedStratifiedKFold\n",
    "from sklearn.model_selection import cross_val_score\n",
    "from sklearn.model_selection import train_test_split\n",
    "\n",
    "from sklearn.linear_model import LogisticRegression\n",
    "from lightgbm import LGBMClassifier\n",
    "from xgboost import XGBClassifier\n",
    "from catboost import CatBoostClassifier\n",
    "from sklearn.ensemble import ExtraTreesClassifier, BaggingClassifier, AdaBoostClassifier, RandomForestClassifier\n",
    "from sklearn.metrics import accuracy_score, confusion_matrix, classification_report, f1_score, roc_auc_score, precision_score, recall_score\n",
    "\n",
    "import optuna\n",
    "import warnings\n",
    "warnings.filterwarnings('ignore')"
   ]
  },
  {
   "cell_type": "code",
   "execution_count": null,
   "metadata": {},
   "outputs": [],
   "source": [
    "classifiers = {\n",
    "    \"cat\": CatBoostClassifier(random_state=RANDOM_SEED, auto_class_weights=\"Balanced\"),\n",
    "    \"lgbm\": LGBMClassifier(random_state=RANDOM_SEED,),\n",
    "    \"xgb\": XGBClassifier(random_state=RANDOM_SEED, eval_metric='auc', objective=\"binary:logistic\"),\n",
    "    \"ada\": AdaBoostClassifier(random_state=RANDOM_SEED),\n",
    "    \"rfc\": RandomForestClassifier(random_state=RANDOM_SEED, class_weight='balanced'),\n",
    "    \"lr\": LogisticRegression(random_state=RANDOM_SEED),\n",
    "    \"extra\": ExtraTreesClassifier(random_state=RANDOM_SEED)\n",
    "}\n",
    "\n",
    "log_cols = [\"model\", \"resample\", \"f1\", \"aucroc\", \"precision\", \"recall\", \"accuracy\"]\n",
    "log = pd.DataFrame(columns=log_cols)\n",
    "\n",
    "DOWN = \"AllKNN\"\n",
    "UP = \"SMOTENC\"\n",
    "RESAMPLE = f\"{DOWN}-{UP}\"\n",
    "\n",
    "def get_log(clf, X, y):\n",
    "    y_prob = clf.predict_proba(X)\n",
    "    y_pred = clf.predict(X)\n",
    "    \n",
    "    clf_name = clf.__class__.__name__\n",
    "    f1 = f1_score(y,y_pred)\n",
    "    aucroc = roc_auc_score(y, y_prob[:,1])\n",
    "    precision = precision_score(y, y_pred)\n",
    "    recall = recall_score(y, y_pred)\n",
    "    acc = accuracy_score(y, y_pred)\n",
    "    \n",
    "    tmp_log = [clf_name, RESAMPLE, f1, aucroc, precision, recall, acc]\n",
    "    # log = pd.concat([log, tmp_log], ignore_index=True)\n",
    "    \n",
    "    # print(classification_report(y, y_pred))\n",
    "    \n",
    "    return tmp_log"
   ]
  },
  {
   "cell_type": "code",
   "execution_count": null,
   "metadata": {},
   "outputs": [],
   "source": [
    "# model = classifiers[\"extra\"]\n",
    "# model.fit(X_tr, y_tr)\n",
    "\n",
    "# rfe = RFE(estimator=model, n_features_to_select=50)                                 \n",
    "# sfm = SelectFromModel(estimator=model, threshold=\"mean\")\n",
    "# kbest = SelectKBest(score_func=f_classif,)\n",
    "\n",
    "# X_tr_selec = sfm.fit_transform(X_tr, y_tr)\n",
    "# X_te_selec = sfm.transform(X_te)\n",
    "\n",
    "# 수동\n",
    "selected_features = [feature for feature in all_features if feature not in from_bins_features] # 기존 열 대신 Bins 열 사용\n",
    "X_tr_selec = X_tr[selected_features]\n",
    "X_te_selec = X_te[selected_features]\n",
    "\n",
    "print(\"Before \", X_tr.shape[1])\n",
    "print(\"After \", X_tr_selec.shape[1])"
   ]
  },
  {
   "cell_type": "code",
   "execution_count": null,
   "metadata": {},
   "outputs": [],
   "source": [
    "print(\"Before \", X_tr.shape[1])\n",
    "print(\"After \", X_tr_selec.shape[1])"
   ]
  },
  {
   "cell_type": "markdown",
   "metadata": {},
   "source": [
    "### Model Check"
   ]
  },
  {
   "cell_type": "code",
   "execution_count": null,
   "metadata": {},
   "outputs": [],
   "source": [
    "stk = StratifiedKFold(n_splits=5, random_state=RANDOM_SEED, shuffle=True)\n",
    "rstk = RepeatedStratifiedKFold(n_splits=5, random_state=RANDOM_SEED)\n",
    "\n",
    "# classifiers_lst = list(classifiers.values())\n",
    "\n",
    "# # 기본 확인\n",
    "# score_dic = {}\n",
    "# for clf_name, clf in classifiers.items():\n",
    "#     scores = cross_val_score(clf, X_tr_selec, y_tr, scoring=\"f1\", cv=stk)\n",
    "#     score_dic[clf_name] = scores.mean()\n",
    "\n",
    "scores = cross_val_score(classifiers[\"cat\"], X_tr_selec, y_tr, scoring=\"f1\", cv=stk)"
   ]
  },
  {
   "cell_type": "code",
   "execution_count": null,
   "metadata": {},
   "outputs": [],
   "source": [
    "scores.mean()"
   ]
  },
  {
   "cell_type": "code",
   "execution_count": null,
   "metadata": {},
   "outputs": [],
   "source": [
    "# scores.mean()\n",
    "score_dic"
   ]
  },
  {
   "cell_type": "markdown",
   "metadata": {},
   "source": [
    "### Tuning"
   ]
  },
  {
   "cell_type": "code",
   "execution_count": null,
   "metadata": {},
   "outputs": [],
   "source": [
    "def catboost_objective(trial):\n",
    "    params = {\n",
    "        'n_estimators': trial.suggest_int('n_estimators', 100, 1000),\n",
    "        'learning_rate': trial.suggest_loguniform('learning_rate', 0.0001, 0.2),\n",
    "        'max_depth': trial.suggest_int('max_depth', 3, 15),\n",
    "        'subsample': trial.suggest_uniform('subsample', 0.5, 1.0),\n",
    "        'colsample_bylevel': trial.suggest_uniform('colsample_bylevel', 0.5, 1.0),\n",
    "        # 'od_type': trial.suggest_categorical(\"od_type\", [\"IncToDec\", \"Iter\"]),\n",
    "        # 'od_wait': trial.suggest_int(\"od_wait\", 10, 50),\n",
    "    }\n",
    "\n",
    "    cat_clf = CatBoostClassifier(**params, random_state=RANDOM_SEED, auto_class_weights=\"Balanced\",) # eval_metric=\"TotalF1\"\n",
    "    \n",
    "    stk = StratifiedKFold(n_splits=5, random_state=RANDOM_SEED, shuffle=True)\n",
    "    f1_scores = np.empty(5)\n",
    "    \n",
    "    for idx, (tr_idx, val_idx) in enumerate(stk.split(X_tr_selec, y_tr)):\n",
    "        X_tr_fold, X_val_fold = X_tr.iloc[tr_idx], X_tr.iloc[val_idx]\n",
    "        y_tr_fold, y_val_fold = y_tr.iloc[tr_idx], y_tr.iloc[val_idx]\n",
    "        \n",
    "        cat_clf.fit(X_tr_fold, y_tr_fold, eval_set=[(X_val_fold, y_val_fold)], early_stopping_rounds=50, verbose=False)\n",
    "        y_pred_fold = cat_clf.predict(X_val_fold)\n",
    "        f1_scores[idx] = f1_score(y_val_fold, y_pred_fold)\n",
    "\n",
    "    return np.mean(f1_scores)\n",
    "\n",
    "cat_study = optuna.create_study(direction='maximize')\n",
    "cat_study.optimize(catboost_objective, n_trials=15)\n",
    "\n",
    "cat_best_params = cat_study.best_params\n",
    "cat_best_score = cat_study.best_value\n",
    "print(\"CatBoost Best Hyperparams: \", cat_best_params)\n",
    "print(\"CatBoost Best F1 Score: \", cat_best_score)"
   ]
  },
  {
   "cell_type": "code",
   "execution_count": null,
   "metadata": {},
   "outputs": [],
   "source": [
    "def lgbm_objective(trial, X_tr, y_tr):\n",
    "    params = {\n",
    "        'n_estimators': trial.suggest_int('n_estimators', 100, 1000),\n",
    "        'learning_rate': trial.suggest_loguniform('learning_rate', 0.001, 0.1),\n",
    "        'max_depth': trial.suggest_int('max_depth', 5, 20),\n",
    "        'num_leaves': trial.suggest_int('num_leaves', 10, 1000),\n",
    "        'subsample': trial.suggest_uniform('subsample', 0.5, 1.0),\n",
    "        'colsample_bytree': trial.suggest_uniform('colsample_bytree', 0.5, 1.0),\n",
    "    }\n",
    "    \n",
    "    lgbm_clf = LGBMClassifier(**params, random_state=RANDOM_SEED)\n",
    "    \n",
    "    stk = StratifiedKFold(n_splits=5, random_state=RANDOM_SEED, shuffle=True)\n",
    "    f1_scores = np.empty(5)\n",
    "    \n",
    "    for idx, (tr_idx, val_idx) in enumerate(stk.split(X_tr, y_tr)):\n",
    "        X_tr_fold, X_val_fold = X_tr.iloc[tr_idx], X_tr.iloc[val_idx]\n",
    "        y_tr_fold, y_val_fold = y_tr.iloc[tr_idx], y_tr.iloc[val_idx]\n",
    "        \n",
    "        lgbm_clf.fit(X_tr_fold, y_tr_fold, early_stopping_rounds=50, verbose=False)\n",
    "        y_pred_fold = lgbm_clf.predict(X_val_fold)\n",
    "        f1_scores[idx] = f1_score(y_val_fold, y_pred_fold)\n",
    "\n",
    "    return np.mean(f1_scores)\n",
    "    \n",
    "# study = optuna.create_study(direction='maximize')\n",
    "# study.optimize(lgbm_objective, n_trials=15)\n",
    "\n",
    "# lgbm_best_params = study.best_params\n",
    "# lgbm_best_score= study.best_value\n",
    "# print(\"LGBM Best Hyperparams: \",lgbm_best_params)\n",
    "# print(\"LGBM Best F1 Score: \", lgbm_best_score)"
   ]
  },
  {
   "cell_type": "markdown",
   "metadata": {},
   "source": [
    "### Submission"
   ]
  },
  {
   "cell_type": "code",
   "execution_count": null,
   "metadata": {},
   "outputs": [],
   "source": [
    "final_clf = CatBoostClassifier(random_state=RANDOM_SEED, auto_class_weights=\"Balanced\",)\n",
    "# final_clf = LGBMClassifier(**lgbm_best_params, random_state=RANDOM_SEED)\n",
    "\n",
    "final_clf.fit(X_tr_selec, y_tr, use_best_model=True)\n",
    "final_preds = final_clf.predict(X_te_selec)"
   ]
  },
  {
   "cell_type": "code",
   "execution_count": null,
   "metadata": {},
   "outputs": [],
   "source": [
    "df_sub = pd.read_csv(os.path.join(ROOT_DIR, \"submission.csv\"))\n",
    "df_sub[\"target\"] = final_preds\n",
    "df_sub[\"target\"] = df_sub[\"target\"].map({0:\"Normal\", 1:\"AbNormal\"})\n",
    "df_sub[\"target\"].value_counts()"
   ]
  },
  {
   "cell_type": "code",
   "execution_count": null,
   "metadata": {},
   "outputs": [],
   "source": [
    "from datetime import datetime\n",
    "\n",
    "curr_date = datetime.now().strftime(\"%m-%d_%H-%M-%S\")\n",
    "df_sub.to_csv(os.path.join(ROOT_DIR, f\"le_mms_oss_adasyn_cat.csv\"))"
   ]
  },
  {
   "cell_type": "code",
   "execution_count": null,
   "metadata": {},
   "outputs": [],
   "source": []
  }
 ],
 "metadata": {
  "kernelspec": {
   "display_name": "Python 3",
   "language": "python",
   "name": "python3"
  },
  "language_info": {
   "codemirror_mode": {
    "name": "ipython",
    "version": 3
   },
   "file_extension": ".py",
   "mimetype": "text/x-python",
   "name": "python",
   "nbconvert_exporter": "python",
   "pygments_lexer": "ipython3",
   "version": "3.10.1"
  }
 },
 "nbformat": 4,
 "nbformat_minor": 2
}
