{
 "cells": [
  {
   "cell_type": "markdown",
   "id": "017e9265",
   "metadata": {},
   "source": [
    "# 제품 이상여부 판별 프로젝트"
   ]
  },
  {
   "cell_type": "markdown",
   "id": "acdab431",
   "metadata": {},
   "source": [
    "## 1. 데이터 불러오기"
   ]
  },
  {
   "cell_type": "markdown",
   "id": "2b8341e8",
   "metadata": {},
   "source": [
    "### 필수 라이브러리"
   ]
  },
  {
   "cell_type": "code",
   "execution_count": 1,
   "id": "a315cc58",
   "metadata": {},
   "outputs": [],
   "source": [
    "import os\n",
    "from pprint import pprint\n",
    "\n",
    "import numpy as np\n",
    "import pandas as pd\n",
    "from sklearn.ensemble import RandomForestClassifier\n",
    "from sklearn.metrics import (\n",
    "    accuracy_score,\n",
    "    classification_report,\n",
    "    confusion_matrix,\n",
    "    f1_score,\n",
    "    precision_score,\n",
    "    recall_score,\n",
    ")\n",
    "from sklearn.model_selection import KFold,train_test_split\n",
    "from tqdm import tqdm\n",
    "from catboost import CatBoostClassifier\n",
    "from imblearn.pipeline import Pipeline\n",
    "from imblearn.over_sampling import SMOTE\n",
    "from imblearn.under_sampling import RandomUnderSampler\n",
    "import random\n",
    "\n",
    "from sklearn.preprocessing import LabelEncoder\n",
    "\n",
    "import xgboost as xgb"
   ]
  },
  {
   "cell_type": "markdown",
   "id": "95bdead2",
   "metadata": {},
   "source": [
    "### 필요한 파일 불러오기"
   ]
  },
  {
   "cell_type": "code",
   "execution_count": 2,
   "id": "ada37547-37dc-4c3a-893c-c8b32bf446fc",
   "metadata": {},
   "outputs": [],
   "source": [
    "X = pd.read_csv(\"X.csv\", low_memory = False)"
   ]
  },
  {
   "cell_type": "code",
   "execution_count": 3,
   "id": "e21a63b8",
   "metadata": {},
   "outputs": [],
   "source": [
    "df_merged = pd.read_csv(\"ORIGINAL.csv\", low_memory=False)"
   ]
  },
  {
   "cell_type": "markdown",
   "id": "6118ae22",
   "metadata": {},
   "source": [
    "### 데이터 전처리"
   ]
  },
  {
   "cell_type": "markdown",
   "id": "97966549",
   "metadata": {},
   "source": [
    "데이타 불균형을 해결하기 위해 언더/오버 샘플링을 진행합니다."
   ]
  },
  {
   "cell_type": "code",
   "execution_count": 4,
   "id": "be3d675d",
   "metadata": {},
   "outputs": [],
   "source": [
    "def sampling(RANDOM_STATE):\n",
    "    df_normal = df_merged[df_merged[\"target\"] == \"Normal\"]\n",
    "    df_abnormal = df_merged[df_merged[\"target\"] == \"AbNormal\"]\n",
    "\n",
    "    num_normal = len(df_normal)\n",
    "    num_abnormal = len(df_abnormal)\n",
    "    normal_ratio = num_normal / num_abnormal # 1.0 means 1:1 ratio    \n",
    "    print(f\"  Total: Normal: {num_normal}, AbNormal: {num_abnormal}\")\n",
    "\n",
    "    df_normal = df_normal.sample(\n",
    "        n=int(num_abnormal * normal_ratio), replace=False, random_state=RANDOM_STATE\n",
    "    )\n",
    "    df_concat = pd.concat([df_normal, df_abnormal], axis=0).reset_index(drop=True)\n",
    "    df_concat.value_counts(\"target\")\n",
    "    df_concat = df_concat.sort_values(by=[\"Collect Date - Dam\"])\n",
    "    return df_concat"
   ]
  },
  {
   "cell_type": "markdown",
   "id": "ebeaabc1",
   "metadata": {},
   "source": [
    "### 데이터 분할"
   ]
  },
  {
   "cell_type": "code",
   "execution_count": 5,
   "id": "6b5e7b3c-87a2-4a7d-a847-81b3cdd1d73f",
   "metadata": {},
   "outputs": [
    {
     "name": "stdout",
     "output_type": "stream",
     "text": [
      "  Total: Normal: 38156, AbNormal: 2350\n"
     ]
    }
   ],
   "source": [
    "RANDOM_STATE =1706\n",
    "df_concat = sampling(RANDOM_STATE)\n",
    "\n",
    "df_train, df_val = train_test_split(\n",
    "    df_concat,\n",
    "    test_size=0.3,\n",
    "    stratify=df_concat[\"target\"],\n",
    "    random_state=RANDOM_STATE,\n",
    ")\n",
    "\n",
    "features = []\n",
    "\n",
    "for col in df_concat.columns:\n",
    "    try:\n",
    "        # 고유 값의 수가 1이면 건너뛰기\n",
    "#         if df_concat[col].nunique() > 1:            \n",
    "            df_concat[col] = df_concat[col].astype(int)\n",
    "            features.append(col)\n",
    "    except:\n",
    "        continue\n",
    "\n",
    "if \"Set ID\" in features:\n",
    "    features.remove(\"Set ID\")\n"
   ]
  },
  {
   "cell_type": "code",
   "execution_count": 6,
   "id": "88851abd",
   "metadata": {},
   "outputs": [
    {
     "name": "stdout",
     "output_type": "stream",
     "text": [
      "(28354, 149) (12152, 149)\n"
     ]
    }
   ],
   "source": [
    "train_x = df_train[features]\n",
    "train_y = df_train[\"target\"]\n",
    "val_x = df_val[features]\n",
    "val_y = df_val[\"target\"]\n",
    "\n",
    "\n",
    "print(train_x.shape, val_x.shape)"
   ]
  },
  {
   "cell_type": "code",
   "execution_count": 7,
   "id": "a88ec51b",
   "metadata": {},
   "outputs": [],
   "source": [
    "le = LabelEncoder()\n",
    "\n",
    "y_train_encoded = le.fit_transform(train_y)\n",
    "y_val_encoded = le.fit_transform(val_y)"
   ]
  },
  {
   "cell_type": "code",
   "execution_count": 8,
   "id": "149602a5-340c-45c9-8b6b-b327f27a957a",
   "metadata": {},
   "outputs": [],
   "source": [
    "# CatBoost with Class Weighting\n",
    "weight_for_class_0 = sum(train_y == 'AbNormal') / len(train_y)\n",
    "weight_for_class_1 = sum(train_y == 'Normal') / len(train_y)\n",
    "model = CatBoostClassifier(class_weights=[weight_for_class_0, weight_for_class_1], random_state=80, verbose=0)"
   ]
  },
  {
   "cell_type": "code",
   "execution_count": 9,
   "id": "92088042",
   "metadata": {},
   "outputs": [],
   "source": [
    "# model = xgb.XGBClassifier(\n",
    "#     n_estimators=100,\n",
    "#     learning_rate=0.1,\n",
    "#     max_depth=6,\n",
    "#     objective='binary:logistic',\n",
    "#     eval_metric='logloss'\n",
    "# )"
   ]
  },
  {
   "cell_type": "markdown",
   "id": "79ecfa9b",
   "metadata": {},
   "source": [
    "## 3. 모델 학습 중 최고만 뽑기"
   ]
  },
  {
   "cell_type": "code",
   "execution_count": 10,
   "id": "88e37a88",
   "metadata": {},
   "outputs": [],
   "source": [
    "df_test_y = pd.read_csv(os.path.join(\"submission.csv\"))"
   ]
  },
  {
   "cell_type": "code",
   "execution_count": 11,
   "id": "a1eb2e59",
   "metadata": {},
   "outputs": [],
   "source": [
    "df_test = pd.merge(X, df_test_y, \"inner\", on=\"Set ID\")\n",
    "df_test_x = df_test[features]\n",
    "\n",
    "for col in df_test_x.columns:\n",
    "    try:\n",
    "        df_test_x.loc[:, col] = df_test_x[col].astype(int)\n",
    "    except:\n",
    "        continue"
   ]
  },
  {
   "cell_type": "markdown",
   "id": "cacd5ed8",
   "metadata": {},
   "source": [
    "### 모델 학습"
   ]
  },
  {
   "cell_type": "code",
   "execution_count": 17,
   "id": "2904ef0e-c3bb-4bcc-8d5d-ef2a98dcde32",
   "metadata": {},
   "outputs": [
    {
     "name": "stdout",
     "output_type": "stream",
     "text": [
      "Resampled Validation F1 Score: 0.9679563661155617\n"
     ]
    }
   ],
   "source": [
    "RANDOM_STATE = 881\n",
    "# 언더샘플링 및 오버샘플링을 위한 파이프라인 구성\n",
    "over = SMOTE(random_state=RANDOM_STATE)\n",
    "under = RandomUnderSampler(random_state=RANDOM_STATE)\n",
    "pipeline = Pipeline(steps=[('u', under),('o', over)])\n",
    "\n",
    "# 오버샘플링 및 언더샘플링 적용\n",
    "train_x_resampled, train_y_resampled = pipeline.fit_resample(train_x, y_train_encoded)\n",
    "\n",
    "# 재학습\n",
    "model.fit(train_x_resampled, train_y_resampled)\n",
    "\n",
    "# 재평가\n",
    "train_pred_resampled = model.predict(train_x_resampled)\n",
    "val_pred_resampled = model.predict(val_x)\n",
    "\n",
    "# print(RANDOM_STATE)\n",
    "now_best = f1_score(y_val_encoded, val_pred_resampled, pos_label=1)\n",
    "print(\"Resampled Validation F1 Score:\", now_best)"
   ]
  },
  {
   "cell_type": "code",
   "execution_count": 15,
   "id": "160515d6",
   "metadata": {},
   "outputs": [
    {
     "name": "stdout",
     "output_type": "stream",
     "text": [
      "0.9679563661155617 is best validationi f1-score\n"
     ]
    }
   ],
   "source": [
    "#제출 데이터 생성하기    \n",
    "test_pred = model.predict(df_test_x)\n",
    "y_pred_labels = le.inverse_transform(test_pred)\n",
    "y_pred_labels\n",
    "# 제출 데이터 읽어오기 (df_test는 전처리된 데이터가 저장됨)\n",
    "df_sub = pd.read_csv(\"submission.csv\")\n",
    "df_sub[\"target\"] = y_pred_labels\n",
    "\n",
    "# 제출 파일 저장\n",
    "df_sub.to_csv(\"submission.csv\", index=False)"
   ]
  },
  {
   "cell_type": "markdown",
   "id": "7adf8300",
   "metadata": {},
   "source": [
    "## 4. 제출하기"
   ]
  },
  {
   "cell_type": "markdown",
   "id": "47f18e6a",
   "metadata": {},
   "source": [
    "### 제출 파일 작성"
   ]
  },
  {
   "cell_type": "markdown",
   "id": "ec7867ce",
   "metadata": {},
   "source": [
    "**우측 상단의 제출 버튼을 클릭해 결과를 확인하세요**"
   ]
  }
 ],
 "metadata": {
  "kernelspec": {
   "display_name": "Python 3 (ipykernel)",
   "language": "python",
   "name": "python3"
  },
  "language_info": {
   "codemirror_mode": {
    "name": "ipython",
    "version": 3
   },
   "file_extension": ".py",
   "mimetype": "text/x-python",
   "name": "python",
   "nbconvert_exporter": "python",
   "pygments_lexer": "ipython3",
   "version": "3.10.13"
  }
 },
 "nbformat": 4,
 "nbformat_minor": 5
}
