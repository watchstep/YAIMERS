{
 "cells": [
  {
   "cell_type": "code",
   "execution_count": 1,
   "id": "b17d45f2",
   "metadata": {},
   "outputs": [],
   "source": [
    "from pytorch_tabnet.tab_model import TabNetClassifier\n",
    "\n",
    "import torch\n",
    "from sklearn.preprocessing import LabelEncoder\n",
    "from sklearn.metrics import accuracy_score, f1_score\n",
    "from sklearn.model_selection import train_test_split\n",
    "import pandas as pd\n",
    "import numpy as np\n",
    "\n",
    "np.random.seed(881)\n",
    "\n",
    "from imblearn.pipeline import Pipeline\n",
    "from imblearn.over_sampling import SMOTE\n",
    "from imblearn.under_sampling import RandomUnderSampler\n",
    "from imblearn.combine import SMOTETomek, SMOTEENN\n",
    "\n",
    "\n",
    "import os\n",
    "import wget\n",
    "from pathlib import Path\n",
    "import shutil\n",
    "import gzip\n",
    "from collections import Counter\n",
    "\n",
    "from matplotlib import pyplot as plt\n",
    "%matplotlib inline"
   ]
  },
  {
   "cell_type": "code",
   "execution_count": 2,
   "id": "89afc51d",
   "metadata": {},
   "outputs": [],
   "source": [
    "ROOT_DIR = \"Data\"\n",
    "RANDOM_STATE = 881\n",
    "\n",
    "# Load data\n",
    "train_data = pd.read_csv(os.path.join(ROOT_DIR, \"train.csv\"))\n",
    "test = pd.read_csv(os.path.join(ROOT_DIR, \"test.csv\"))"
   ]
  },
  {
   "cell_type": "code",
   "execution_count": 3,
   "id": "6ceff4bc",
   "metadata": {},
   "outputs": [
    {
     "name": "stdout",
     "output_type": "stream",
     "text": [
      "  Total: Normal: 38156, AbNormal: 2350\n"
     ]
    },
    {
     "data": {
      "text/plain": [
       "target\n",
       "Normal      34075\n",
       "AbNormal     2350\n",
       "dtype: int64"
      ]
     },
     "execution_count": 3,
     "metadata": {},
     "output_type": "execute_result"
    }
   ],
   "source": [
    "df_normal = train_data[train_data[\"target\"] == \"Normal\"]\n",
    "df_abnormal = train_data[train_data[\"target\"] == \"AbNormal\"]\n",
    "\n",
    "num_normal = len(df_normal)\n",
    "num_abnormal = len(df_abnormal)\n",
    "print(f\"  Total: Normal: {num_normal}, AbNormal: {num_abnormal}\")\n",
    "\n",
    "normal_ratio = 14.5  # 1.0 means 1:1 ratio\n",
    "# normal_ratio = 1.0  # 1.0 means 1:1 ratio\n",
    "df_normal = df_normal.sample(n=int(num_abnormal * normal_ratio), replace=False, random_state=RANDOM_STATE)\n",
    "df_concat = pd.concat([df_normal, df_abnormal], axis=0).reset_index(drop=True)\n",
    "df_concat.value_counts(\"target\")"
   ]
  },
  {
   "cell_type": "code",
   "execution_count": 4,
   "id": "107a5351",
   "metadata": {},
   "outputs": [],
   "source": [
    "RANDON_STATE=881"
   ]
  },
  {
   "cell_type": "code",
   "execution_count": 5,
   "id": "5ed5236f",
   "metadata": {},
   "outputs": [],
   "source": [
    "train = df_concat"
   ]
  },
  {
   "cell_type": "code",
   "execution_count": 6,
   "id": "a0540081",
   "metadata": {},
   "outputs": [],
   "source": [
    "# Train, val and test split follows\n",
    "n_total = len(train)\n",
    "train_indices, valid_indices = train_test_split(\n",
    "    range(n_total), test_size=0.3, random_state=RANDON_STATE)"
   ]
  },
  {
   "cell_type": "code",
   "execution_count": 7,
   "id": "6ad511af",
   "metadata": {},
   "outputs": [],
   "source": [
    "#Preprocessing\n",
    "def simplepreprocessing(df):\n",
    "    #categorical feature의 레이블 인코딩\n",
    "    categorical_columns = []\n",
    "    categorical_dims =  {} #각 범주형 feature의 인코딩된 클래스 수 저장 \n",
    "    for col in df.columns[df.dtypes == object]:\n",
    "#         print(col, df[col].nunique()) #컬럼의 이름과 고유 값의 개수를 출력\n",
    "        l_enc = LabelEncoder()\n",
    "        df[col] = l_enc.fit_transform(df[col].values)\n",
    "        categorical_columns.append(col)\n",
    "        categorical_dims[col] = len(l_enc.classes_)\n",
    "\n",
    "    #numerical feature의 결측치 채우기 \n",
    "    for col in df.columns[df.dtypes == 'float64']:\n",
    "        df.fillna(train.loc[train_indices, col].mean(), inplace=True)\n",
    "    return categorical_columns, categorical_dims, df"
   ]
  },
  {
   "cell_type": "code",
   "execution_count": 8,
   "id": "d0b87b9c",
   "metadata": {},
   "outputs": [],
   "source": [
    "categorical_columns, categorical_dims, train = simplepreprocessing(train)\n",
    "_, _, test = simplepreprocessing(test)"
   ]
  },
  {
   "cell_type": "code",
   "execution_count": 9,
   "id": "40665403",
   "metadata": {},
   "outputs": [],
   "source": [
    "test = test.drop(columns=['Set ID'])"
   ]
  },
  {
   "cell_type": "code",
   "execution_count": 10,
   "id": "dc3b986f",
   "metadata": {},
   "outputs": [],
   "source": [
    "#define categorical features for categorical embeddings\n",
    "unused_feat = []\n",
    "\n",
    "features = [ col for col in train.columns if col not in unused_feat+['target']] \n",
    "\n",
    "cat_idxs = [ i for i, f in enumerate(features) if f in categorical_columns]\n",
    "\n",
    "cat_dims = [ categorical_dims[f] for i, f in enumerate(features) if f in categorical_columns]"
   ]
  },
  {
   "cell_type": "code",
   "execution_count": 11,
   "id": "152fa359",
   "metadata": {},
   "outputs": [
    {
     "name": "stderr",
     "output_type": "stream",
     "text": [
      "/home/work/.local/lib/python3.10/site-packages/pytorch_tabnet/abstract_model.py:82: UserWarning: Device used : cuda\n",
      "  warnings.warn(f\"Device used : {self.device}\")\n"
     ]
    }
   ],
   "source": [
    "#network 정의 \n",
    "clf = TabNetClassifier(\n",
    "    n_d=8, n_a=8, n_steps=5,\n",
    "    gamma=1.5, n_independent=2, n_shared=2,\n",
    "    cat_idxs=cat_idxs,\n",
    "    cat_dims=cat_dims,\n",
    "    cat_emb_dim=1,\n",
    "    lambda_sparse=1e-4, momentum=0.02, clip_value=2.,\n",
    "    optimizer_fn=torch.optim.AdamW,\n",
    "    optimizer_params=dict(lr=5e-2),\n",
    "    scheduler_params = {\"T_max\": 10,\n",
    "                     \"eta_min\": 0},\n",
    "    scheduler_fn=torch.optim.lr_scheduler.CosineAnnealingLR, epsilon=1e-15\n",
    ")"
   ]
  },
  {
   "cell_type": "code",
   "execution_count": 12,
   "id": "896a83eb",
   "metadata": {},
   "outputs": [],
   "source": [
    "X_train = train[features].values[train_indices]\n",
    "y_train = train['target'].values[train_indices]\n",
    "\n",
    "X_valid = train[features].values[valid_indices]\n",
    "y_valid = train['target'].values[valid_indices]\n",
    "\n",
    "X_test = test[features]"
   ]
  },
  {
   "cell_type": "code",
   "execution_count": 13,
   "id": "4d69b0e0",
   "metadata": {},
   "outputs": [],
   "source": [
    "max_epochs = 200"
   ]
  },
  {
   "cell_type": "code",
   "execution_count": 14,
   "id": "4eb7bdce",
   "metadata": {},
   "outputs": [],
   "source": [
    "# # SMOTE와 Tomek Links 결합\n",
    "# resampler = SMOTETomek(random_state=RANDOM_STATE)\n",
    "\n",
    "# # 파이프라인을 통해 데이터 샘플링\n",
    "# pipeline = Pipeline(steps=[('resampler', resampler)])\n",
    "# train_x_resampled, train_y_resampled = pipeline.fit_resample(X_train, y_train)\n",
    "\n",
    "# # 결과 확인\n",
    "# print(f\"Original dataset shape: {Counter(y_train)}\")\n",
    "# print(f\"Resampled dataset shape: {Counter(train_y_resampled)}\")"
   ]
  },
  {
   "cell_type": "code",
   "execution_count": 15,
   "id": "f5872568",
   "metadata": {},
   "outputs": [],
   "source": [
    "# # SMOTEENN 생성\n",
    "# smote_enn = SMOTEENN(random_state=RANDOM_STATE)\n",
    "\n",
    "# # 파이프라인을 통해 데이터 샘플링\n",
    "# pipeline = Pipeline(steps=[('resampler', smote_enn)])\n",
    "# train_x_resampled, train_y_resampled = pipeline.fit_resample(X_train, y_train)\n",
    "\n",
    "# # 결과 확인\n",
    "# print(f\"Original dataset shape: {Counter(y_train)}\")\n",
    "# print(f\"Resampled dataset shape: {Counter(train_y_resampled)}\")"
   ]
  },
  {
   "cell_type": "code",
   "execution_count": 16,
   "id": "01406e0a",
   "metadata": {},
   "outputs": [
    {
     "name": "stdout",
     "output_type": "stream",
     "text": [
      "epoch 0  | loss: 0.32477 | train_auc: 0.50634 | valid_auc: 0.50645 |  0:00:04s\n",
      "epoch 1  | loss: 0.24577 | train_auc: 0.5     | valid_auc: 0.5     |  0:00:07s\n",
      "epoch 2  | loss: 0.24168 | train_auc: 0.50751 | valid_auc: 0.50055 |  0:00:10s\n",
      "epoch 3  | loss: 0.2407  | train_auc: 0.55741 | valid_auc: 0.54754 |  0:00:12s\n",
      "epoch 4  | loss: 0.23973 | train_auc: 0.54635 | valid_auc: 0.53844 |  0:00:15s\n",
      "epoch 5  | loss: 0.24372 | train_auc: 0.5     | valid_auc: 0.5     |  0:00:18s\n",
      "epoch 6  | loss: 0.24319 | train_auc: 0.50876 | valid_auc: 0.50413 |  0:00:21s\n",
      "epoch 7  | loss: 0.23834 | train_auc: 0.5     | valid_auc: 0.5     |  0:00:24s\n",
      "epoch 8  | loss: 0.2393  | train_auc: 0.5     | valid_auc: 0.5     |  0:00:27s\n",
      "epoch 9  | loss: 0.237   | train_auc: 0.5     | valid_auc: 0.5     |  0:00:30s\n",
      "epoch 10 | loss: 0.23992 | train_auc: 0.5     | valid_auc: 0.5     |  0:00:33s\n",
      "epoch 11 | loss: 0.23926 | train_auc: 0.5     | valid_auc: 0.5     |  0:00:36s\n",
      "epoch 12 | loss: 0.24038 | train_auc: 0.5     | valid_auc: 0.5     |  0:00:39s\n",
      "epoch 13 | loss: 0.24063 | train_auc: 0.49996 | valid_auc: 0.49985 |  0:00:42s\n",
      "epoch 14 | loss: 0.24002 | train_auc: 0.50006 | valid_auc: 0.50168 |  0:00:45s\n",
      "epoch 15 | loss: 0.24036 | train_auc: 0.50045 | valid_auc: 0.4999  |  0:00:48s\n",
      "epoch 16 | loss: 0.23961 | train_auc: 0.55133 | valid_auc: 0.54138 |  0:00:51s\n",
      "epoch 17 | loss: 0.24139 | train_auc: 0.4997  | valid_auc: 0.50107 |  0:00:54s\n",
      "epoch 18 | loss: 0.24206 | train_auc: 0.49804 | valid_auc: 0.50297 |  0:00:57s\n",
      "epoch 19 | loss: 0.24185 | train_auc: 0.48775 | valid_auc: 0.49002 |  0:01:00s\n",
      "epoch 20 | loss: 0.24083 | train_auc: 0.48458 | valid_auc: 0.48548 |  0:01:03s\n",
      "epoch 21 | loss: 0.23909 | train_auc: 0.45186 | valid_auc: 0.46108 |  0:01:06s\n",
      "epoch 22 | loss: 0.2401  | train_auc: 0.56737 | valid_auc: 0.5624  |  0:01:09s\n",
      "epoch 23 | loss: 0.23748 | train_auc: 0.47417 | valid_auc: 0.47751 |  0:01:12s\n",
      "epoch 24 | loss: 0.23716 | train_auc: 0.48237 | valid_auc: 0.47636 |  0:01:15s\n",
      "epoch 25 | loss: 0.2369  | train_auc: 0.48456 | valid_auc: 0.49912 |  0:01:18s\n",
      "epoch 26 | loss: 0.23342 | train_auc: 0.56094 | valid_auc: 0.5442  |  0:01:21s\n",
      "epoch 27 | loss: 0.23486 | train_auc: 0.49329 | valid_auc: 0.47792 |  0:01:24s\n",
      "epoch 28 | loss: 0.23127 | train_auc: 0.48783 | valid_auc: 0.48509 |  0:01:27s\n",
      "epoch 29 | loss: 0.23397 | train_auc: 0.501   | valid_auc: 0.48306 |  0:01:30s\n",
      "epoch 30 | loss: 0.2338  | train_auc: 0.47188 | valid_auc: 0.46086 |  0:01:33s\n",
      "epoch 31 | loss: 0.23163 | train_auc: 0.46196 | valid_auc: 0.46572 |  0:01:36s\n",
      "epoch 32 | loss: 0.23371 | train_auc: 0.48509 | valid_auc: 0.48026 |  0:01:39s\n",
      "epoch 33 | loss: 0.23252 | train_auc: 0.51819 | valid_auc: 0.51952 |  0:01:42s\n",
      "epoch 34 | loss: 0.23386 | train_auc: 0.54696 | valid_auc: 0.53459 |  0:01:45s\n",
      "epoch 35 | loss: 0.23327 | train_auc: 0.46744 | valid_auc: 0.46576 |  0:01:48s\n",
      "epoch 36 | loss: 0.23373 | train_auc: 0.50239 | valid_auc: 0.51736 |  0:01:51s\n",
      "epoch 37 | loss: 0.23502 | train_auc: 0.44814 | valid_auc: 0.46206 |  0:01:54s\n",
      "epoch 38 | loss: 0.23643 | train_auc: 0.46482 | valid_auc: 0.47711 |  0:01:57s\n",
      "epoch 39 | loss: 0.23447 | train_auc: 0.58844 | valid_auc: 0.57992 |  0:02:00s\n",
      "epoch 40 | loss: 0.23551 | train_auc: 0.5188  | valid_auc: 0.52358 |  0:02:03s\n",
      "epoch 41 | loss: 0.23444 | train_auc: 0.55875 | valid_auc: 0.55631 |  0:02:06s\n",
      "epoch 42 | loss: 0.23432 | train_auc: 0.48238 | valid_auc: 0.48939 |  0:02:09s\n",
      "epoch 43 | loss: 0.24041 | train_auc: 0.5752  | valid_auc: 0.58615 |  0:02:12s\n",
      "epoch 44 | loss: 0.23848 | train_auc: 0.54217 | valid_auc: 0.54908 |  0:02:15s\n",
      "epoch 45 | loss: 0.23713 | train_auc: 0.5859  | valid_auc: 0.57992 |  0:02:18s\n",
      "epoch 46 | loss: 0.23324 | train_auc: 0.56848 | valid_auc: 0.56104 |  0:02:21s\n",
      "epoch 47 | loss: 0.23203 | train_auc: 0.57612 | valid_auc: 0.55507 |  0:02:24s\n",
      "epoch 48 | loss: 0.23082 | train_auc: 0.56821 | valid_auc: 0.56476 |  0:02:27s\n",
      "epoch 49 | loss: 0.23026 | train_auc: 0.57164 | valid_auc: 0.55921 |  0:02:29s\n",
      "epoch 50 | loss: 0.22972 | train_auc: 0.57257 | valid_auc: 0.56301 |  0:02:32s\n",
      "epoch 51 | loss: 0.23168 | train_auc: 0.57421 | valid_auc: 0.56429 |  0:02:35s\n",
      "epoch 52 | loss: 0.23013 | train_auc: 0.47835 | valid_auc: 0.50953 |  0:02:38s\n",
      "epoch 53 | loss: 0.22992 | train_auc: 0.56253 | valid_auc: 0.56094 |  0:02:41s\n",
      "epoch 54 | loss: 0.23029 | train_auc: 0.49781 | valid_auc: 0.51881 |  0:02:44s\n",
      "epoch 55 | loss: 0.23036 | train_auc: 0.56786 | valid_auc: 0.56707 |  0:02:47s\n",
      "epoch 56 | loss: 0.23051 | train_auc: 0.42806 | valid_auc: 0.43529 |  0:02:50s\n",
      "epoch 57 | loss: 0.23001 | train_auc: 0.44034 | valid_auc: 0.44858 |  0:02:53s\n",
      "epoch 58 | loss: 0.22994 | train_auc: 0.44209 | valid_auc: 0.4547  |  0:02:56s\n",
      "epoch 59 | loss: 0.22993 | train_auc: 0.57978 | valid_auc: 0.56701 |  0:02:59s\n",
      "epoch 60 | loss: 0.22758 | train_auc: 0.58033 | valid_auc: 0.57099 |  0:03:02s\n",
      "epoch 61 | loss: 0.22946 | train_auc: 0.54628 | valid_auc: 0.53301 |  0:03:05s\n",
      "epoch 62 | loss: 0.22726 | train_auc: 0.49347 | valid_auc: 0.50182 |  0:03:08s\n",
      "epoch 63 | loss: 0.22945 | train_auc: 0.50813 | valid_auc: 0.51662 |  0:03:11s\n",
      "epoch 64 | loss: 0.22843 | train_auc: 0.53845 | valid_auc: 0.54957 |  0:03:14s\n",
      "epoch 65 | loss: 0.22618 | train_auc: 0.52555 | valid_auc: 0.52615 |  0:03:17s\n",
      "epoch 66 | loss: 0.2252  | train_auc: 0.49757 | valid_auc: 0.50928 |  0:03:20s\n",
      "epoch 67 | loss: 0.22565 | train_auc: 0.5733  | valid_auc: 0.5589  |  0:03:23s\n",
      "epoch 68 | loss: 0.22348 | train_auc: 0.57694 | valid_auc: 0.56708 |  0:03:26s\n",
      "epoch 69 | loss: 0.22369 | train_auc: 0.55088 | valid_auc: 0.55299 |  0:03:29s\n",
      "epoch 70 | loss: 0.22382 | train_auc: 0.44377 | valid_auc: 0.46201 |  0:03:32s\n",
      "epoch 71 | loss: 0.22373 | train_auc: 0.44086 | valid_auc: 0.44745 |  0:03:35s\n",
      "epoch 72 | loss: 0.22508 | train_auc: 0.51431 | valid_auc: 0.49397 |  0:03:38s\n",
      "epoch 73 | loss: 0.22372 | train_auc: 0.57048 | valid_auc: 0.57512 |  0:03:41s\n",
      "epoch 74 | loss: 0.22567 | train_auc: 0.55784 | valid_auc: 0.53543 |  0:03:44s\n",
      "epoch 75 | loss: 0.22514 | train_auc: 0.439   | valid_auc: 0.44022 |  0:03:47s\n",
      "epoch 76 | loss: 0.22604 | train_auc: 0.5734  | valid_auc: 0.55167 |  0:03:50s\n",
      "epoch 77 | loss: 0.22671 | train_auc: 0.5832  | valid_auc: 0.568   |  0:03:53s\n",
      "epoch 78 | loss: 0.22694 | train_auc: 0.56616 | valid_auc: 0.56249 |  0:03:56s\n",
      "epoch 79 | loss: 0.22522 | train_auc: 0.55062 | valid_auc: 0.54552 |  0:03:59s\n",
      "epoch 80 | loss: 0.22239 | train_auc: 0.421   | valid_auc: 0.42597 |  0:04:02s\n",
      "epoch 81 | loss: 0.22308 | train_auc: 0.45845 | valid_auc: 0.45486 |  0:04:05s\n",
      "epoch 82 | loss: 0.22242 | train_auc: 0.42702 | valid_auc: 0.43378 |  0:04:08s\n",
      "epoch 83 | loss: 0.2197  | train_auc: 0.57368 | valid_auc: 0.57271 |  0:04:11s\n",
      "epoch 84 | loss: 0.21984 | train_auc: 0.46727 | valid_auc: 0.49509 |  0:04:14s\n",
      "epoch 85 | loss: 0.22018 | train_auc: 0.5335  | valid_auc: 0.54185 |  0:04:17s\n",
      "epoch 86 | loss: 0.21859 | train_auc: 0.53261 | valid_auc: 0.53412 |  0:04:20s\n",
      "epoch 87 | loss: 0.2175  | train_auc: 0.57999 | valid_auc: 0.56086 |  0:04:23s\n",
      "epoch 88 | loss: 0.21641 | train_auc: 0.59757 | valid_auc: 0.57633 |  0:04:26s\n",
      "epoch 89 | loss: 0.21505 | train_auc: 0.59738 | valid_auc: 0.57522 |  0:04:29s\n",
      "epoch 90 | loss: 0.21581 | train_auc: 0.59173 | valid_auc: 0.57075 |  0:04:32s\n",
      "epoch 91 | loss: 0.21699 | train_auc: 0.59493 | valid_auc: 0.57924 |  0:04:35s\n",
      "epoch 92 | loss: 0.21583 | train_auc: 0.5946  | valid_auc: 0.58596 |  0:04:38s\n",
      "epoch 93 | loss: 0.21578 | train_auc: 0.59817 | valid_auc: 0.57954 |  0:04:41s\n",
      "epoch 94 | loss: 0.21681 | train_auc: 0.59633 | valid_auc: 0.58022 |  0:04:43s\n",
      "epoch 95 | loss: 0.21673 | train_auc: 0.62017 | valid_auc: 0.59123 |  0:04:46s\n",
      "epoch 96 | loss: 0.21805 | train_auc: 0.60689 | valid_auc: 0.57595 |  0:04:49s\n",
      "epoch 97 | loss: 0.21856 | train_auc: 0.60524 | valid_auc: 0.5823  |  0:04:52s\n",
      "epoch 98 | loss: 0.21844 | train_auc: 0.59198 | valid_auc: 0.5747  |  0:04:55s\n",
      "epoch 99 | loss: 0.21831 | train_auc: 0.37905 | valid_auc: 0.43271 |  0:04:58s\n",
      "epoch 100| loss: 0.21806 | train_auc: 0.41535 | valid_auc: 0.45897 |  0:05:01s\n",
      "epoch 101| loss: 0.21678 | train_auc: 0.4045  | valid_auc: 0.4596  |  0:05:04s\n",
      "epoch 102| loss: 0.21699 | train_auc: 0.54165 | valid_auc: 0.53546 |  0:05:07s\n",
      "epoch 103| loss: 0.21511 | train_auc: 0.44879 | valid_auc: 0.49361 |  0:05:10s\n",
      "epoch 104| loss: 0.21682 | train_auc: 0.41009 | valid_auc: 0.44692 |  0:05:13s\n",
      "epoch 105| loss: 0.21431 | train_auc: 0.41914 | valid_auc: 0.45739 |  0:05:16s\n",
      "epoch 106| loss: 0.21322 | train_auc: 0.448   | valid_auc: 0.49167 |  0:05:19s\n",
      "epoch 107| loss: 0.21414 | train_auc: 0.50066 | valid_auc: 0.5336  |  0:05:22s\n",
      "epoch 108| loss: 0.21309 | train_auc: 0.55218 | valid_auc: 0.56866 |  0:05:25s\n",
      "epoch 109| loss: 0.21157 | train_auc: 0.58296 | valid_auc: 0.57372 |  0:05:28s\n",
      "epoch 110| loss: 0.21285 | train_auc: 0.59332 | valid_auc: 0.56963 |  0:05:31s\n",
      "epoch 111| loss: 0.2116  | train_auc: 0.59807 | valid_auc: 0.56758 |  0:05:34s\n",
      "epoch 112| loss: 0.21209 | train_auc: 0.59722 | valid_auc: 0.56866 |  0:05:37s\n",
      "epoch 113| loss: 0.21381 | train_auc: 0.58779 | valid_auc: 0.56221 |  0:05:40s\n",
      "epoch 114| loss: 0.2129  | train_auc: 0.59747 | valid_auc: 0.57044 |  0:05:43s\n",
      "epoch 115| loss: 0.21688 | train_auc: 0.48845 | valid_auc: 0.47843 |  0:05:46s\n",
      "epoch 116| loss: 0.21882 | train_auc: 0.53236 | valid_auc: 0.53431 |  0:05:49s\n",
      "epoch 117| loss: 0.21827 | train_auc: 0.41618 | valid_auc: 0.44261 |  0:05:52s\n",
      "epoch 118| loss: 0.21776 | train_auc: 0.55366 | valid_auc: 0.52413 |  0:05:55s\n",
      "epoch 119| loss: 0.21696 | train_auc: 0.63251 | valid_auc: 0.59374 |  0:05:58s\n",
      "epoch 120| loss: 0.21555 | train_auc: 0.44055 | valid_auc: 0.45335 |  0:06:01s\n",
      "epoch 121| loss: 0.21612 | train_auc: 0.52329 | valid_auc: 0.50064 |  0:06:04s\n",
      "epoch 122| loss: 0.21473 | train_auc: 0.53156 | valid_auc: 0.50552 |  0:06:07s\n",
      "epoch 123| loss: 0.21397 | train_auc: 0.61203 | valid_auc: 0.55822 |  0:06:10s\n",
      "epoch 124| loss: 0.21414 | train_auc: 0.58608 | valid_auc: 0.57354 |  0:06:13s\n",
      "epoch 125| loss: 0.21508 | train_auc: 0.59209 | valid_auc: 0.57228 |  0:06:16s\n",
      "epoch 126| loss: 0.21181 | train_auc: 0.59562 | valid_auc: 0.56732 |  0:06:19s\n",
      "epoch 127| loss: 0.21283 | train_auc: 0.58993 | valid_auc: 0.56581 |  0:06:22s\n",
      "epoch 128| loss: 0.21071 | train_auc: 0.58925 | valid_auc: 0.55964 |  0:06:25s\n",
      "epoch 129| loss: 0.21001 | train_auc: 0.5856  | valid_auc: 0.55566 |  0:06:28s\n",
      "epoch 130| loss: 0.21053 | train_auc: 0.58285 | valid_auc: 0.55815 |  0:06:31s\n",
      "epoch 131| loss: 0.21047 | train_auc: 0.58004 | valid_auc: 0.55407 |  0:06:34s\n",
      "epoch 132| loss: 0.21167 | train_auc: 0.57817 | valid_auc: 0.55082 |  0:06:36s\n",
      "epoch 133| loss: 0.21069 | train_auc: 0.56739 | valid_auc: 0.53086 |  0:06:39s\n",
      "epoch 134| loss: 0.21089 | train_auc: 0.50088 | valid_auc: 0.49804 |  0:06:42s\n",
      "epoch 135| loss: 0.21222 | train_auc: 0.57638 | valid_auc: 0.54838 |  0:06:45s\n",
      "epoch 136| loss: 0.21428 | train_auc: 0.6209  | valid_auc: 0.58212 |  0:06:48s\n",
      "epoch 137| loss: 0.21396 | train_auc: 0.57443 | valid_auc: 0.5451  |  0:06:51s\n",
      "epoch 138| loss: 0.21583 | train_auc: 0.6212  | valid_auc: 0.56912 |  0:06:54s\n",
      "epoch 139| loss: 0.21469 | train_auc: 0.57106 | valid_auc: 0.56794 |  0:06:57s\n",
      "epoch 140| loss: 0.21372 | train_auc: 0.48901 | valid_auc: 0.50519 |  0:07:00s\n",
      "epoch 141| loss: 0.21658 | train_auc: 0.55281 | valid_auc: 0.51838 |  0:07:03s\n",
      "epoch 142| loss: 0.21731 | train_auc: 0.59895 | valid_auc: 0.54998 |  0:07:06s\n",
      "epoch 143| loss: 0.21335 | train_auc: 0.61088 | valid_auc: 0.5584  |  0:07:09s\n",
      "epoch 144| loss: 0.21319 | train_auc: 0.43865 | valid_auc: 0.46795 |  0:07:12s\n",
      "epoch 145| loss: 0.21337 | train_auc: 0.58788 | valid_auc: 0.54182 |  0:07:15s\n",
      "epoch 146| loss: 0.21162 | train_auc: 0.50092 | valid_auc: 0.50511 |  0:07:18s\n",
      "epoch 147| loss: 0.21734 | train_auc: 0.50946 | valid_auc: 0.50551 |  0:07:21s\n",
      "epoch 148| loss: 0.2151  | train_auc: 0.49917 | valid_auc: 0.49205 |  0:07:24s\n",
      "epoch 149| loss: 0.21364 | train_auc: 0.53865 | valid_auc: 0.50589 |  0:07:27s\n",
      "epoch 150| loss: 0.21438 | train_auc: 0.56636 | valid_auc: 0.5427  |  0:07:30s\n",
      "epoch 151| loss: 0.21315 | train_auc: 0.51412 | valid_auc: 0.50396 |  0:07:33s\n",
      "epoch 152| loss: 0.21301 | train_auc: 0.51627 | valid_auc: 0.49958 |  0:07:36s\n",
      "epoch 153| loss: 0.21277 | train_auc: 0.48938 | valid_auc: 0.488   |  0:07:39s\n",
      "epoch 154| loss: 0.21194 | train_auc: 0.60604 | valid_auc: 0.5689  |  0:07:42s\n",
      "epoch 155| loss: 0.21524 | train_auc: 0.50306 | valid_auc: 0.49005 |  0:07:45s\n",
      "epoch 156| loss: 0.21418 | train_auc: 0.42585 | valid_auc: 0.47622 |  0:07:48s\n",
      "epoch 157| loss: 0.21519 | train_auc: 0.59068 | valid_auc: 0.5772  |  0:07:51s\n",
      "epoch 158| loss: 0.21337 | train_auc: 0.58292 | valid_auc: 0.53424 |  0:07:54s\n",
      "epoch 159| loss: 0.21382 | train_auc: 0.57879 | valid_auc: 0.55536 |  0:07:57s\n",
      "epoch 160| loss: 0.21384 | train_auc: 0.57103 | valid_auc: 0.53604 |  0:08:00s\n",
      "epoch 161| loss: 0.21357 | train_auc: 0.56111 | valid_auc: 0.57036 |  0:08:03s\n",
      "epoch 162| loss: 0.21162 | train_auc: 0.6355  | valid_auc: 0.57161 |  0:08:06s\n",
      "epoch 163| loss: 0.21124 | train_auc: 0.61628 | valid_auc: 0.55783 |  0:08:09s\n",
      "epoch 164| loss: 0.20942 | train_auc: 0.62891 | valid_auc: 0.55808 |  0:08:12s\n",
      "epoch 165| loss: 0.20968 | train_auc: 0.5726  | valid_auc: 0.52997 |  0:08:15s\n",
      "epoch 166| loss: 0.20858 | train_auc: 0.61604 | valid_auc: 0.55873 |  0:08:18s\n",
      "epoch 167| loss: 0.2071  | train_auc: 0.62238 | valid_auc: 0.5582  |  0:08:21s\n",
      "epoch 168| loss: 0.21162 | train_auc: 0.46854 | valid_auc: 0.48688 |  0:08:24s\n",
      "epoch 169| loss: 0.21632 | train_auc: 0.48719 | valid_auc: 0.4927  |  0:08:26s\n",
      "epoch 170| loss: 0.21494 | train_auc: 0.51755 | valid_auc: 0.51095 |  0:08:29s\n",
      "epoch 171| loss: 0.21209 | train_auc: 0.58182 | valid_auc: 0.53361 |  0:08:32s\n",
      "epoch 172| loss: 0.21114 | train_auc: 0.6421  | valid_auc: 0.56972 |  0:08:35s\n",
      "epoch 173| loss: 0.20863 | train_auc: 0.64198 | valid_auc: 0.57175 |  0:08:38s\n",
      "epoch 174| loss: 0.20808 | train_auc: 0.64586 | valid_auc: 0.58692 |  0:08:41s\n",
      "epoch 175| loss: 0.21153 | train_auc: 0.63856 | valid_auc: 0.57341 |  0:08:44s\n",
      "epoch 176| loss: 0.21007 | train_auc: 0.63659 | valid_auc: 0.56999 |  0:08:47s\n",
      "epoch 177| loss: 0.21025 | train_auc: 0.62617 | valid_auc: 0.58736 |  0:08:50s\n",
      "epoch 178| loss: 0.21098 | train_auc: 0.61635 | valid_auc: 0.57397 |  0:08:53s\n",
      "epoch 179| loss: 0.21153 | train_auc: 0.62619 | valid_auc: 0.58297 |  0:08:56s\n",
      "epoch 180| loss: 0.2126  | train_auc: 0.636   | valid_auc: 0.59168 |  0:08:59s\n",
      "epoch 181| loss: 0.21459 | train_auc: 0.57169 | valid_auc: 0.52173 |  0:09:02s\n",
      "epoch 182| loss: 0.23085 | train_auc: 0.6189  | valid_auc: 0.60179 |  0:09:05s\n",
      "epoch 183| loss: 0.22766 | train_auc: 0.62801 | valid_auc: 0.58552 |  0:09:08s\n",
      "epoch 184| loss: 0.22065 | train_auc: 0.73579 | valid_auc: 0.63458 |  0:09:11s\n",
      "epoch 185| loss: 0.21712 | train_auc: 0.63888 | valid_auc: 0.59702 |  0:09:14s\n",
      "epoch 186| loss: 0.21627 | train_auc: 0.65554 | valid_auc: 0.60109 |  0:09:17s\n",
      "epoch 187| loss: 0.21162 | train_auc: 0.6559  | valid_auc: 0.60029 |  0:09:20s\n",
      "epoch 188| loss: 0.21022 | train_auc: 0.66817 | valid_auc: 0.60322 |  0:09:23s\n",
      "epoch 189| loss: 0.21049 | train_auc: 0.65628 | valid_auc: 0.59773 |  0:09:26s\n",
      "epoch 190| loss: 0.20935 | train_auc: 0.66174 | valid_auc: 0.60187 |  0:09:29s\n",
      "epoch 191| loss: 0.2096  | train_auc: 0.66287 | valid_auc: 0.60219 |  0:09:32s\n",
      "epoch 192| loss: 0.20992 | train_auc: 0.65191 | valid_auc: 0.59577 |  0:09:35s\n",
      "epoch 193| loss: 0.21087 | train_auc: 0.637   | valid_auc: 0.58817 |  0:09:38s\n",
      "epoch 194| loss: 0.20875 | train_auc: 0.65356 | valid_auc: 0.60205 |  0:09:41s\n",
      "epoch 195| loss: 0.21066 | train_auc: 0.70727 | valid_auc: 0.61971 |  0:09:44s\n",
      "epoch 196| loss: 0.21428 | train_auc: 0.57075 | valid_auc: 0.55984 |  0:09:47s\n",
      "epoch 197| loss: 0.21318 | train_auc: 0.74378 | valid_auc: 0.63857 |  0:09:50s\n",
      "epoch 198| loss: 0.21301 | train_auc: 0.53276 | valid_auc: 0.50875 |  0:09:53s\n",
      "epoch 199| loss: 0.22368 | train_auc: 0.60203 | valid_auc: 0.56749 |  0:09:56s\n",
      "Stop training because you reached max_epochs = 200 with best_epoch = 197 and best_valid_auc = 0.63857\n"
     ]
    },
    {
     "name": "stderr",
     "output_type": "stream",
     "text": [
      "/home/work/.local/lib/python3.10/site-packages/pytorch_tabnet/callbacks.py:172: UserWarning: Best weights from best epoch are automatically used!\n",
      "  warnings.warn(wrn_msg)\n"
     ]
    }
   ],
   "source": [
    "clf.fit(\n",
    "    X_train=X_train, y_train=y_train,\n",
    "    eval_set=[(X_train, y_train), (X_valid, y_valid)],\n",
    "    eval_name=['train', 'valid'],\n",
    "    max_epochs=max_epochs, patience=100,\n",
    "    batch_size=1024, virtual_batch_size=256\n",
    ") "
   ]
  },
  {
   "cell_type": "code",
   "execution_count": 17,
   "id": "bc30d7a8",
   "metadata": {},
   "outputs": [
    {
     "name": "stdout",
     "output_type": "stream",
     "text": [
      "Validation F1-score: 0.4870\n"
     ]
    }
   ],
   "source": [
    "# 검증 데이터에 대한 예측 수행\n",
    "y_valid_pred = clf.predict(X_valid)\n",
    "\n",
    "# F1-score 계산\n",
    "valid_f1 = f1_score(y_valid, y_valid_pred, average='macro')  # or 'macro', 'micro' depending on your specific needs\n",
    "\n",
    "# F1-score 출력\n",
    "print(f\"Validation F1-score: {valid_f1:.4f}\")"
   ]
  },
  {
   "cell_type": "code",
   "execution_count": 18,
   "id": "f945c21a",
   "metadata": {},
   "outputs": [
    {
     "data": {
      "text/plain": [
       "[<matplotlib.lines.Line2D at 0x7fd3950b07f0>]"
      ]
     },
     "execution_count": 18,
     "metadata": {},
     "output_type": "execute_result"
    },
    {
     "data": {
      "image/png": "[encoded data removed]",
      "text/plain": [
       "<Figure size 640x480 with 1 Axes>"
      ]
     },
     "metadata": {},
     "output_type": "display_data"
    }
   ],
   "source": [
    "# plot losses\n",
    "plt.plot(clf.history['loss'])"
   ]
  },
  {
   "cell_type": "code",
   "execution_count": 19,
   "id": "898d4f12",
   "metadata": {},
   "outputs": [
    {
     "name": "stdout",
     "output_type": "stream",
     "text": [
      "0    Normal\n",
      "1    Normal\n",
      "2    Normal\n",
      "3    Normal\n",
      "4    Normal\n",
      "dtype: object\n",
      "\n",
      "17356    Normal\n",
      "17357    Normal\n",
      "17358    Normal\n",
      "17359    Normal\n",
      "17360    Normal\n",
      "dtype: object\n"
     ]
    }
   ],
   "source": [
    "X_test_array = X_test.values\n",
    "y_pred = clf.predict(X_test_array)\n",
    "y_pred_series = pd.Series(y_pred)\n",
    "y_pred_labels = y_pred_series.map({1: 'Normal', 0: 'AbNormal'})\n",
    "print(y_pred_labels.head())\n",
    "print()\n",
    "print(y_pred_labels.tail())"
   ]
  },
  {
   "cell_type": "code",
   "execution_count": 20,
   "id": "54540e8d",
   "metadata": {},
   "outputs": [
    {
     "name": "stdout",
     "output_type": "stream",
     "text": [
      "Successfully saved model at test_model.zip\n"
     ]
    }
   ],
   "source": [
    "# save state dict\n",
    "saved_filename = clf.save_model('test_model')"
   ]
  },
  {
   "cell_type": "code",
   "execution_count": 21,
   "id": "39943046",
   "metadata": {},
   "outputs": [
    {
     "name": "stderr",
     "output_type": "stream",
     "text": [
      "/home/work/.local/lib/python3.10/site-packages/pytorch_tabnet/abstract_model.py:82: UserWarning: Device used : cuda\n",
      "  warnings.warn(f\"Device used : {self.device}\")\n"
     ]
    }
   ],
   "source": [
    "# define new model and load save parameters\n",
    "loaded_clf = TabNetClassifier()\n",
    "loaded_clf.load_model(saved_filename)"
   ]
  },
  {
   "cell_type": "code",
   "execution_count": 22,
   "id": "b0319420",
   "metadata": {},
   "outputs": [],
   "source": [
    "X_test_array = X_test.values\n",
    "loaded_preds = loaded_clf.predict(X_test_array)\n",
    "y_pred_series = pd.Series(y_pred)\n",
    "y_pred_labels = y_pred_series.map({1: 'Normal', 0: 'AbNormal'})"
   ]
  },
  {
   "cell_type": "code",
   "execution_count": 23,
   "id": "93061557",
   "metadata": {},
   "outputs": [],
   "source": [
    "# 제출 파일 작성\n",
    "df_sub = pd.read_csv(\"submission.csv\")\n",
    "df_sub[\"target\"] = y_pred_labels\n",
    "df_sub.to_csv(\"submission.csv\", index=False)"
   ]
  },
  {
   "cell_type": "code",
   "execution_count": null,
   "id": "e323f8d4",
   "metadata": {},
   "outputs": [],
   "source": []
  }
 ],
 "metadata": {
  "kernelspec": {
   "display_name": "hari",
   "language": "python",
   "name": "hrenv"
  },
  "language_info": {
   "codemirror_mode": {
    "name": "ipython",
    "version": 3
   },
   "file_extension": ".py",
   "mimetype": "text/x-python",
   "name": "python",
   "nbconvert_exporter": "python",
   "pygments_lexer": "ipython3",
   "version": "3.10.12"
  }
 },
 "nbformat": 4,
 "nbformat_minor": 5
}
