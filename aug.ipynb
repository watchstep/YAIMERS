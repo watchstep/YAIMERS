{
 "cells": [
  {
   "cell_type": "code",
   "execution_count": 1,
   "metadata": {},
   "outputs": [],
   "source": [
    "import pandas as pd\n",
    "import numpy as np"
   ]
  },
  {
   "cell_type": "code",
   "execution_count": 2,
   "metadata": {},
   "outputs": [],
   "source": [
    "# 파일 경로 설정\n",
    "file_path = './abnormal.csv'\n",
    "\n",
    "# CSV 파일 읽기\n",
    "df = pd.read_csv(file_path)"
   ]
  },
  {
   "cell_type": "code",
   "execution_count": 3,
   "metadata": {},
   "outputs": [
    {
     "name": "stdout",
     "output_type": "stream",
     "text": [
      "   Wip Line - Dam  Process Desc. - Dam  Equipment - Dam  Model.Suffix - Dam  \\\n",
      "0             0.0                  0.0              0.0                 0.0   \n",
      "1             0.0                  0.0              0.0                 0.0   \n",
      "2             0.0                  0.0              0.0                 0.0   \n",
      "3             0.0                  0.0              0.0                 0.0   \n",
      "4             0.0                  0.0              0.0                 0.0   \n",
      "\n",
      "   Workorder - Dam  Set ID  Collect Date - Dam  Insp. Seq No. - Dam  \\\n",
      "0              0.0     0.0                 0.0                  1.0   \n",
      "1              0.0     1.0                 1.0                  1.0   \n",
      "2              0.0     2.0                 2.0                  1.0   \n",
      "3              0.0     4.0                 3.0                  1.0   \n",
      "4              0.0     6.0                 4.0                  1.0   \n",
      "\n",
      "   Insp Judge Code - Dam  Collect Result - Dam  ...  \\\n",
      "0                    0.0                 240.0  ...   \n",
      "1                    0.0                 240.0  ...   \n",
      "2                    0.0                 240.0  ...   \n",
      "3                    0.0                 240.0  ...   \n",
      "4                    0.0                 240.0  ...   \n",
      "\n",
      "   Collect Result.31 - Fill2  Collect Result.32 - Fill2  \\\n",
      "0                       91.0                      270.0   \n",
      "1                       91.0                      270.0   \n",
      "2                       91.0                      270.0   \n",
      "3                       91.0                      270.0   \n",
      "4                       91.0                      270.0   \n",
      "\n",
      "   Collect Result.33 - Fill2  Collect Result.34 - Fill2  \\\n",
      "0                       50.0                       85.0   \n",
      "1                       50.0                       85.0   \n",
      "2                       50.0                       85.0   \n",
      "3                       50.0                       85.0   \n",
      "4                       50.0                       85.0   \n",
      "\n",
      "   Collect Result.35 - Fill2  Collect Result.36 - Fill2  \\\n",
      "0                       18.0                        5.0   \n",
      "1                       18.0                        6.0   \n",
      "2                       18.0                        1.0   \n",
      "3                       18.0                        4.0   \n",
      "4                       18.0                        6.0   \n",
      "\n",
      "   Collect Result.37 - Fill2  Collect Result.38 - Fill2  \\\n",
      "0                        2.0                        1.0   \n",
      "1                        3.0                        1.0   \n",
      "2                        6.0                        1.0   \n",
      "3                       18.0                        1.0   \n",
      "4                       12.0                        1.0   \n",
      "\n",
      "   Collect Result.39 - Fill2    target  \n",
      "0                        0.0  AbNormal  \n",
      "1                        0.0  AbNormal  \n",
      "2                        0.0  AbNormal  \n",
      "3                        0.0  AbNormal  \n",
      "4                        0.0  AbNormal  \n",
      "\n",
      "[5 rows x 189 columns]\n"
     ]
    }
   ],
   "source": [
    "# 숫자형 열만 선택\n",
    "numeric_cols = df.select_dtypes(include=[np.number]).columns\n",
    "\n",
    "# Gaussian 노이즈 추가 함수\n",
    "def add_gaussian_noise(df, columns, mean=0, std=0.0001):\n",
    "    noisy_df = df.copy()\n",
    "    for col in columns:\n",
    "        noise = np.random.normal(mean, std, df[col].shape)\n",
    "        noisy_df[col] = df[col] + df[col]*noise\n",
    "    return noisy_df\n",
    "\n",
    "# Gaussian 노이즈 추가\n",
    "df_noisy = add_gaussian_noise(df, numeric_cols)\n",
    "df_noisy2 = add_gaussian_noise(df, numeric_cols)\n",
    "df_noisy3 = add_gaussian_noise(df, numeric_cols)\n",
    "# 원본 데이터와 노이즈가 추가된 데이터를 병합하여 증강 데이터 생성\n",
    "df_augmented = pd.concat([df, df_noisy, df_noisy2, df_noisy3])\n",
    "\n",
    "# 증강된 데이터 확인\n",
    "print(df_augmented.head())\n",
    "\n",
    "# 증강된 데이터 저장\n",
    "augmented_file_path = './abnormal_augmented.csv'\n",
    "df_augmented.to_csv(augmented_file_path, index=False)"
   ]
  },
  {
   "cell_type": "code",
   "execution_count": 4,
   "metadata": {},
   "outputs": [
    {
     "data": {
      "text/plain": [
       "(2350, 189)"
      ]
     },
     "execution_count": 4,
     "metadata": {},
     "output_type": "execute_result"
    }
   ],
   "source": [
    "df.shape"
   ]
  },
  {
   "cell_type": "code",
   "execution_count": 5,
   "metadata": {},
   "outputs": [
    {
     "data": {
      "text/plain": [
       "(9400, 189)"
      ]
     },
     "execution_count": 5,
     "metadata": {},
     "output_type": "execute_result"
    }
   ],
   "source": [
    "df_augmented.shape"
   ]
  },
  {
   "cell_type": "code",
   "execution_count": null,
   "metadata": {},
   "outputs": [],
   "source": []
  }
 ],
 "metadata": {
  "kernelspec": {
   "display_name": "Python 3",
   "language": "python",
   "name": "python3"
  },
  "language_info": {
   "codemirror_mode": {
    "name": "ipython",
    "version": 3
   },
   "file_extension": ".py",
   "mimetype": "text/x-python",
   "name": "python",
   "nbconvert_exporter": "python",
   "pygments_lexer": "ipython3",
   "version": "3.12.4"
  }
 },
 "nbformat": 4,
 "nbformat_minor": 2
}
